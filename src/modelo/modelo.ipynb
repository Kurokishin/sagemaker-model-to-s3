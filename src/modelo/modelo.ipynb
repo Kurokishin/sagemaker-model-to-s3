{
 "cells": [
  {
   "cell_type": "code",
   "execution_count": null,
   "id": "ed34eb69",
   "metadata": {},
   "outputs": [],
   "source": [
    "import pandas as pd\n",
    "import matplotlib.pyplot as plt\n",
    "%matplotlib inline\n",
    "import numpy as np\n",
    "import seaborn as sns\n",
    "#import sagemaker\n",
    "import boto3\n",
    "#from sagemaker import Session\n",
    "\n",
    "df = pd.read_csv(\"../dataframe/Hotel Reservations tratado.csv\")"
   ]
  },
  {
   "cell_type": "code",
   "execution_count": null,
   "id": "fd0c23d9",
   "metadata": {},
   "outputs": [],
   "source": []
  },
  {
   "cell_type": "code",
   "execution_count": null,
   "id": "250638e7",
   "metadata": {},
   "outputs": [],
   "source": [
    "# treinamento modelo\n",
    "data_treinamento = df.iloc[0:36000,:]\n",
    "data_treinamento.shape"
   ]
  },
  {
   "cell_type": "code",
   "execution_count": null,
   "id": "f2dc1ae3",
   "metadata": {},
   "outputs": [],
   "source": [
    "data_teste = df.iloc[36000:, :]\n",
    "data_teste.shape"
   ]
  },
  {
   "cell_type": "code",
   "execution_count": null,
   "id": "bf692efb",
   "metadata": {},
   "outputs": [],
   "source": [
    "x_teste = data_teste.iloc[:,:19].values\n",
    "x_teste"
   ]
  },
  {
   "cell_type": "code",
   "execution_count": 1,
   "id": "b26aa59c",
   "metadata": {},
   "outputs": [
    {
     "ename": "NameError",
     "evalue": "name 'data_teste' is not defined",
     "output_type": "error",
     "traceback": [
      "\u001b[1;31m---------------------------------------------------------------------------\u001b[0m",
      "\u001b[1;31mNameError\u001b[0m                                 Traceback (most recent call last)",
      "\u001b[1;32m~\\AppData\\Local\\Temp\\ipykernel_15080\\105126594.py\u001b[0m in \u001b[0;36m<module>\u001b[1;34m\u001b[0m\n\u001b[1;32m----> 1\u001b[1;33m \u001b[0my_teste\u001b[0m \u001b[1;33m=\u001b[0m \u001b[0mdata_teste\u001b[0m\u001b[1;33m.\u001b[0m\u001b[0miloc\u001b[0m\u001b[1;33m[\u001b[0m\u001b[1;33m:\u001b[0m\u001b[1;36m0\u001b[0m\u001b[1;33m]\u001b[0m\u001b[1;33m.\u001b[0m\u001b[0mvalues\u001b[0m\u001b[1;33m\u001b[0m\u001b[1;33m\u001b[0m\u001b[0m\n\u001b[0m\u001b[0;32m      2\u001b[0m \u001b[0my_teste\u001b[0m\u001b[1;33m\u001b[0m\u001b[1;33m\u001b[0m\u001b[0m\n",
      "\u001b[1;31mNameError\u001b[0m: name 'data_teste' is not defined"
     ]
    }
   ],
   "source": [
    "y_teste = data_teste.iloc[:0].values\n",
    "y_teste"
   ]
  },
  {
   "cell_type": "code",
   "execution_count": 2,
   "id": "66b09d0c",
   "metadata": {},
   "outputs": [
    {
     "ename": "NameError",
     "evalue": "name 'data_treinamento' is not defined",
     "output_type": "error",
     "traceback": [
      "\u001b[1;31m---------------------------------------------------------------------------\u001b[0m",
      "\u001b[1;31mNameError\u001b[0m                                 Traceback (most recent call last)",
      "\u001b[1;32m~\\AppData\\Local\\Temp\\ipykernel_15080\\1511689926.py\u001b[0m in \u001b[0;36m<module>\u001b[1;34m\u001b[0m\n\u001b[1;32m----> 1\u001b[1;33m \u001b[0mdata_treinamento\u001b[0m\u001b[1;33m.\u001b[0m\u001b[0mto_csv\u001b[0m\u001b[1;33m(\u001b[0m\u001b[1;34m'Hotel Reservations.csv'\u001b[0m\u001b[1;33m,\u001b[0m \u001b[0mheader\u001b[0m \u001b[1;33m=\u001b[0m \u001b[1;32mFalse\u001b[0m\u001b[1;33m,\u001b[0m \u001b[0mindex\u001b[0m \u001b[1;33m=\u001b[0m \u001b[1;32mFalse\u001b[0m\u001b[1;33m)\u001b[0m\u001b[1;33m\u001b[0m\u001b[1;33m\u001b[0m\u001b[0m\n\u001b[0m\u001b[0;32m      2\u001b[0m \u001b[0mdata_teste\u001b[0m\u001b[1;33m.\u001b[0m\u001b[0mto_csv\u001b[0m\u001b[1;33m(\u001b[0m\u001b[1;34m'Hotel Reservations tratado.csv'\u001b[0m\u001b[1;33m,\u001b[0m \u001b[0mheader\u001b[0m \u001b[1;33m=\u001b[0m \u001b[1;32mFalse\u001b[0m\u001b[1;33m,\u001b[0m \u001b[0mindex\u001b[0m \u001b[1;33m=\u001b[0m \u001b[1;32mFalse\u001b[0m\u001b[1;33m)\u001b[0m\u001b[1;33m\u001b[0m\u001b[1;33m\u001b[0m\u001b[0m\n",
      "\u001b[1;31mNameError\u001b[0m: name 'data_treinamento' is not defined"
     ]
    }
   ],
   "source": [
    "data_treinamento.to_csv('Hotel Reservations.csv', header = False, index = False)\n",
    "data_teste.to_csv('Hotel Reservations tratado.csv', header = False, index = False)"
   ]
  },
  {
   "cell_type": "markdown",
   "id": "cab722bb",
   "metadata": {},
   "source": [
    "# Configuração do SageMaker"
   ]
  },
  {
   "cell_type": "code",
   "execution_count": 8,
   "id": "7eee7d17",
   "metadata": {},
   "outputs": [
    {
     "name": "stdout",
     "output_type": "stream",
     "text": [
      "Dados de treinamento: s3://modelo-treinado-grupo4/datasets/treino/hotel-train-data\n",
      "Dados de teste: s3://modelo-treinado-grupo4/datasets/teste/hotel-test-data\n",
      "Modelo será salvo em: s3://modelo-treinado-grupo4/modelos/xgboost/output\n"
     ]
    }
   ],
   "source": [
    "#session = sagemaker.Session()\n",
    "bucket = 'modelo-treinado-grupo4'\n",
    "pasta_modelo = 'modelos/xgboost'\n",
    "pasta_dataset = 'datasets'\n",
    "key_train = 'hotel-train-data'\n",
    "key_test = 'hotel-test-data'\n",
    "#role = sagemaker.get_execution_role()\n",
    "s3_train_data = 's3://{}/{}/treino/{}'.format(bucket, pasta_dataset, key_train)\n",
    "s3_test_data = 's3://{}/{}/teste/{}'.format(bucket, pasta_dataset, key_test)\n",
    "output_location = 's3://{}/{}/output'.format(bucket, pasta_modelo)\n",
    "#print('Role: {}'.format(role))\n",
    "print('Dados de treinamento: {}'.format(s3_train_data))\n",
    "print('Dados de teste: {}'.format(s3_test_data))\n",
    "print('Modelo será salvo em: {}'.format(output_location))"
   ]
  },
  {
   "cell_type": "code",
   "execution_count": 5,
   "id": "c57dab73",
   "metadata": {},
   "outputs": [],
   "source": [
    "#import os\n",
    "#with open('hotel-train-data.csv', 'rb') as f:\n",
    "    #boto3.Session().resource('s3').Bucket(bucket).Object(os.path.join(pasta_dataset, 'train', key_train)).upload_fileobj(f)"
   ]
  },
  {
   "cell_type": "code",
   "execution_count": 6,
   "id": "005040d2",
   "metadata": {},
   "outputs": [],
   "source": [
    "#import os\n",
    "#with open('hotel-test-data.csv', 'rb') as f:\n",
    "    #boto3.Session().resource('s3').Bucket(bucket).Object(os.path.join(pasta_dataset, 'train', key_train)).upload_fileobj(f)"
   ]
  },
  {
   "cell_type": "code",
   "execution_count": 7,
   "id": "c7066b4b",
   "metadata": {},
   "outputs": [],
   "source": [
    "#from sagemaker import image_uris\n",
    "#container = image_uris.retrieve(framework = 'xgboost', region=boto3.Session().region_name, version='latest')"
   ]
  },
  {
   "cell_type": "code",
   "execution_count": 9,
   "id": "165d7ab3",
   "metadata": {},
   "outputs": [],
   "source": [
    "#xgboost = sagemaker.estimator.Estimator(image_uri = container,\n",
    "                                        #role = role,\n",
    "                                        #instance_count = 1,\n",
    "                                        #instance_type = 'ml.m5.xlarge',\n",
    "                                        #output_path = output_location,\n",
    "                                        #sagemaker_session = session)"
   ]
  },
  {
   "cell_type": "code",
   "execution_count": 10,
   "id": "24b18604",
   "metadata": {},
   "outputs": [],
   "source": [
    "#xgboost_regressor = xgboost.deploy(initial_instance_count = 1, instance_type = 'ml.m4.xlarge')"
   ]
  },
  {
   "cell_type": "code",
   "execution_count": 11,
   "id": "35b35095",
   "metadata": {},
   "outputs": [],
   "source": [
    "#from sagemaker.serializers import CSVSerializer\n",
    "#xgboost_regressor.serializer = CSVSerializer()"
   ]
  },
  {
   "cell_type": "code",
   "execution_count": null,
   "id": "36646fb1",
   "metadata": {},
   "outputs": [],
   "source": [
    "#previsoes = np.array(xgboost_regressor.predict(x_teste).decode('utf-8').split(',')).astype(np.float32)"
   ]
  }
 ],
 "metadata": {
  "kernelspec": {
   "display_name": "Python 3 (ipykernel)",
   "language": "python",
   "name": "python3"
  },
  "language_info": {
   "codemirror_mode": {
    "name": "ipython",
    "version": 3
   },
   "file_extension": ".py",
   "mimetype": "text/x-python",
   "name": "python",
   "nbconvert_exporter": "python",
   "pygments_lexer": "ipython3",
   "version": "3.9.13"
  }
 },
 "nbformat": 4,
 "nbformat_minor": 5
}
