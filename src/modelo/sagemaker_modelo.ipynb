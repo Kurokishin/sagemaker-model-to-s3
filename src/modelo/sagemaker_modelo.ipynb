{
 "cells": [
  {
   "cell_type": "markdown",
   "id": "5d893234",
   "metadata": {},
   "source": [
    "## Treinamento do modelo"
   ]
  },
  {
   "cell_type": "markdown",
   "id": "af664594",
   "metadata": {},
   "source": [
    "### Importação de bibliotecas e do dataframe tratado"
   ]
  },
  {
   "cell_type": "code",
   "execution_count": 1,
   "id": "ed34eb69",
   "metadata": {
    "tags": []
   },
   "outputs": [],
   "source": [
    "import pandas as pd\n",
    "import numpy as np\n",
    "import sagemaker\n",
    "import boto3\n",
    "from sagemaker import Session\n",
    "\n",
    "df = pd.read_csv(\"dataframe/Hotel Reservations tratado.csv\")"
   ]
  },
  {
   "cell_type": "code",
   "execution_count": 2,
   "id": "2646513e-d1c5-4c39-baf4-34c473f98170",
   "metadata": {
    "tags": []
   },
   "outputs": [
    {
     "data": {
      "text/plain": [
       "Index(['label_avg_price_per_room', 'no_of_adults', 'no_of_children',\n",
       "       'no_of_weekend_nights', 'no_of_week_nights',\n",
       "       'required_car_parking_space', 'no_of_special_requests',\n",
       "       'room_type_reserved_Room_Type 1', 'room_type_reserved_Room_Type 2',\n",
       "       'room_type_reserved_Room_Type 3', 'room_type_reserved_Room_Type 4',\n",
       "       'room_type_reserved_Room_Type 5', 'room_type_reserved_Room_Type 6',\n",
       "       'room_type_reserved_Room_Type 7', 'arrival_year_2017',\n",
       "       'arrival_year_2018', 'arrival_month_1', 'arrival_month_2',\n",
       "       'arrival_month_3', 'arrival_month_4', 'arrival_month_5',\n",
       "       'arrival_month_6', 'arrival_month_7', 'arrival_month_8',\n",
       "       'arrival_month_9', 'arrival_month_10', 'arrival_month_11',\n",
       "       'arrival_month_12'],\n",
       "      dtype='object')"
      ]
     },
     "execution_count": 2,
     "metadata": {},
     "output_type": "execute_result"
    }
   ],
   "source": [
    "df.columns"
   ]
  },
  {
   "cell_type": "code",
   "execution_count": 3,
   "id": "5647f262-bc18-45f9-b3d7-db4695380aaa",
   "metadata": {
    "tags": []
   },
   "outputs": [
    {
     "data": {
      "text/plain": [
       "(36275, 28)"
      ]
     },
     "execution_count": 3,
     "metadata": {},
     "output_type": "execute_result"
    }
   ],
   "source": [
    "df.shape"
   ]
  },
  {
   "cell_type": "markdown",
   "id": "7a392bd5",
   "metadata": {},
   "source": [
    "### Separação dos dados de treino e teste"
   ]
  },
  {
   "cell_type": "code",
   "execution_count": 4,
   "id": "442d1740-4e72-45f0-bcfb-bca1626bda9e",
   "metadata": {
    "tags": []
   },
   "outputs": [],
   "source": [
    "from sklearn.model_selection import train_test_split\n",
    "X = df.iloc[:,1:len(df.columns)]\n",
    "y = df.iloc[:,0]"
   ]
  },
  {
   "cell_type": "code",
   "execution_count": 5,
   "id": "2c090257-c549-4765-a109-822e39f2c437",
   "metadata": {
    "tags": []
   },
   "outputs": [
    {
     "data": {
      "text/plain": [
       "((25392, 27), (10883, 27), (25392,), (10883,))"
      ]
     },
     "execution_count": 5,
     "metadata": {},
     "output_type": "execute_result"
    }
   ],
   "source": [
    "X_treino, X_teste, y_treino, y_teste = train_test_split(X, y, test_size=0.3)\n",
    "X_treino.shape, X_teste.shape, y_treino.shape, y_teste.shape"
   ]
  },
  {
   "cell_type": "markdown",
   "id": "874da20b",
   "metadata": {},
   "source": [
    "### Definições do modelo sequencial"
   ]
  },
  {
   "cell_type": "code",
   "execution_count": 6,
   "id": "80271ec4-6754-4be0-8b40-500b39b28501",
   "metadata": {
    "tags": []
   },
   "outputs": [],
   "source": [
    "from tensorflow import keras\n",
    "from tensorflow.keras import datasets, layers, models\n",
    "from tensorflow.keras.layers import Dropout, Dense\n",
    "\n",
    "model = keras.Sequential()\n",
    "model.add(layers.Dense(54, input_shape=(X.shape[1],), activation='relu'))\n",
    "model.add(layers.Dense(27, activation='relu'))\n",
    "model.add(Dropout(0.2))\n",
    "model.add(layers.Dense(27, activation='relu'))\n",
    "model.add(Dropout(0.2))\n",
    "model.add(layers.Dense(27, activation='relu'))\n",
    "model.add(keras.layers.Dense(3, activation='softmax'))"
   ]
  },
  {
   "cell_type": "code",
   "execution_count": 7,
   "id": "dfe0b6f4-0b26-4154-8bba-00d49f4564cf",
   "metadata": {
    "tags": []
   },
   "outputs": [],
   "source": [
    "model.compile(optimizer='adam',\n",
    "              loss=keras.losses.SparseCategoricalCrossentropy(),\n",
    "              metrics=['accuracy'])"
   ]
  },
  {
   "cell_type": "markdown",
   "id": "b9840044",
   "metadata": {},
   "source": [
    "### Treinamento do modelo"
   ]
  },
  {
   "cell_type": "code",
   "execution_count": 8,
   "id": "86cafda5-5efa-4049-a90b-dbea4212279b",
   "metadata": {
    "tags": []
   },
   "outputs": [
    {
     "name": "stdout",
     "output_type": "stream",
     "text": [
      "Epoch 1/50\n",
      "100/100 [==============================] - 2s 7ms/step - loss: 1.0714 - accuracy: 0.4079 - val_loss: 0.9373 - val_accuracy: 0.5585\n",
      "Epoch 2/50\n",
      "100/100 [==============================] - 0s 4ms/step - loss: 0.9186 - accuracy: 0.5477 - val_loss: 0.8718 - val_accuracy: 0.5702\n",
      "Epoch 3/50\n",
      "100/100 [==============================] - 0s 4ms/step - loss: 0.8801 - accuracy: 0.5751 - val_loss: 0.8542 - val_accuracy: 0.5870\n",
      "Epoch 4/50\n",
      "100/100 [==============================] - 0s 4ms/step - loss: 0.8658 - accuracy: 0.5866 - val_loss: 0.8445 - val_accuracy: 0.6017\n",
      "Epoch 5/50\n",
      "100/100 [==============================] - 0s 4ms/step - loss: 0.8547 - accuracy: 0.5930 - val_loss: 0.8368 - val_accuracy: 0.6086\n",
      "Epoch 6/50\n",
      "100/100 [==============================] - 0s 4ms/step - loss: 0.8461 - accuracy: 0.5964 - val_loss: 0.8314 - val_accuracy: 0.6112\n",
      "Epoch 7/50\n",
      "100/100 [==============================] - 0s 4ms/step - loss: 0.8386 - accuracy: 0.5991 - val_loss: 0.8272 - val_accuracy: 0.6087\n",
      "Epoch 8/50\n",
      "100/100 [==============================] - 0s 3ms/step - loss: 0.8304 - accuracy: 0.6091 - val_loss: 0.8217 - val_accuracy: 0.6109\n",
      "Epoch 9/50\n",
      "100/100 [==============================] - 0s 4ms/step - loss: 0.8260 - accuracy: 0.6078 - val_loss: 0.8180 - val_accuracy: 0.6116\n",
      "Epoch 10/50\n",
      "100/100 [==============================] - 0s 4ms/step - loss: 0.8198 - accuracy: 0.6100 - val_loss: 0.8104 - val_accuracy: 0.6157\n",
      "Epoch 11/50\n",
      "100/100 [==============================] - 0s 4ms/step - loss: 0.8174 - accuracy: 0.6123 - val_loss: 0.8131 - val_accuracy: 0.6111\n",
      "Epoch 12/50\n",
      "100/100 [==============================] - 0s 4ms/step - loss: 0.8109 - accuracy: 0.6154 - val_loss: 0.8075 - val_accuracy: 0.6190\n",
      "Epoch 13/50\n",
      "100/100 [==============================] - 0s 4ms/step - loss: 0.8075 - accuracy: 0.6169 - val_loss: 0.8019 - val_accuracy: 0.6226\n",
      "Epoch 14/50\n",
      "100/100 [==============================] - 0s 3ms/step - loss: 0.8040 - accuracy: 0.6174 - val_loss: 0.8002 - val_accuracy: 0.6205\n",
      "Epoch 15/50\n",
      "100/100 [==============================] - 0s 4ms/step - loss: 0.8033 - accuracy: 0.6206 - val_loss: 0.8060 - val_accuracy: 0.6178\n",
      "Epoch 16/50\n",
      "100/100 [==============================] - 0s 4ms/step - loss: 0.8004 - accuracy: 0.6213 - val_loss: 0.7969 - val_accuracy: 0.6235\n",
      "Epoch 17/50\n",
      "100/100 [==============================] - 0s 4ms/step - loss: 0.7979 - accuracy: 0.6232 - val_loss: 0.7957 - val_accuracy: 0.6200\n",
      "Epoch 18/50\n",
      "100/100 [==============================] - 0s 4ms/step - loss: 0.7934 - accuracy: 0.6247 - val_loss: 0.8006 - val_accuracy: 0.6169\n",
      "Epoch 19/50\n",
      "100/100 [==============================] - 0s 4ms/step - loss: 0.7933 - accuracy: 0.6266 - val_loss: 0.7953 - val_accuracy: 0.6281\n",
      "Epoch 20/50\n",
      "100/100 [==============================] - 0s 4ms/step - loss: 0.7898 - accuracy: 0.6279 - val_loss: 0.7936 - val_accuracy: 0.6249\n",
      "Epoch 21/50\n",
      "100/100 [==============================] - 0s 3ms/step - loss: 0.7882 - accuracy: 0.6270 - val_loss: 0.7914 - val_accuracy: 0.6264\n",
      "Epoch 22/50\n",
      "100/100 [==============================] - 0s 4ms/step - loss: 0.7891 - accuracy: 0.6265 - val_loss: 0.7908 - val_accuracy: 0.6288\n",
      "Epoch 23/50\n",
      "100/100 [==============================] - 0s 4ms/step - loss: 0.7882 - accuracy: 0.6272 - val_loss: 0.7886 - val_accuracy: 0.6347\n",
      "Epoch 24/50\n",
      "100/100 [==============================] - 0s 4ms/step - loss: 0.7858 - accuracy: 0.6296 - val_loss: 0.7882 - val_accuracy: 0.6273\n",
      "Epoch 25/50\n",
      "100/100 [==============================] - 0s 4ms/step - loss: 0.7842 - accuracy: 0.6315 - val_loss: 0.7885 - val_accuracy: 0.6291\n",
      "Epoch 26/50\n",
      "100/100 [==============================] - 0s 4ms/step - loss: 0.7818 - accuracy: 0.6300 - val_loss: 0.7835 - val_accuracy: 0.6292\n",
      "Epoch 27/50\n",
      "100/100 [==============================] - 0s 4ms/step - loss: 0.7794 - accuracy: 0.6305 - val_loss: 0.7859 - val_accuracy: 0.6339\n",
      "Epoch 28/50\n",
      "100/100 [==============================] - 0s 4ms/step - loss: 0.7771 - accuracy: 0.6348 - val_loss: 0.7830 - val_accuracy: 0.6365\n",
      "Epoch 29/50\n",
      "100/100 [==============================] - 0s 3ms/step - loss: 0.7792 - accuracy: 0.6339 - val_loss: 0.7851 - val_accuracy: 0.6347\n",
      "Epoch 30/50\n",
      "100/100 [==============================] - 0s 4ms/step - loss: 0.7767 - accuracy: 0.6350 - val_loss: 0.7804 - val_accuracy: 0.6346\n",
      "Epoch 31/50\n",
      "100/100 [==============================] - 0s 4ms/step - loss: 0.7745 - accuracy: 0.6375 - val_loss: 0.7825 - val_accuracy: 0.6345\n",
      "Epoch 32/50\n",
      "100/100 [==============================] - 0s 4ms/step - loss: 0.7731 - accuracy: 0.6391 - val_loss: 0.7792 - val_accuracy: 0.6359\n",
      "Epoch 33/50\n",
      "100/100 [==============================] - 0s 4ms/step - loss: 0.7711 - accuracy: 0.6424 - val_loss: 0.7801 - val_accuracy: 0.6378\n",
      "Epoch 34/50\n",
      "100/100 [==============================] - 0s 4ms/step - loss: 0.7708 - accuracy: 0.6372 - val_loss: 0.7770 - val_accuracy: 0.6407\n",
      "Epoch 35/50\n",
      "100/100 [==============================] - 0s 4ms/step - loss: 0.7706 - accuracy: 0.6384 - val_loss: 0.7774 - val_accuracy: 0.6379\n",
      "Epoch 36/50\n",
      "100/100 [==============================] - 0s 4ms/step - loss: 0.7710 - accuracy: 0.6402 - val_loss: 0.7828 - val_accuracy: 0.6358\n",
      "Epoch 37/50\n",
      "100/100 [==============================] - 0s 4ms/step - loss: 0.7687 - accuracy: 0.6393 - val_loss: 0.7796 - val_accuracy: 0.6402\n",
      "Epoch 38/50\n",
      "100/100 [==============================] - 0s 4ms/step - loss: 0.7680 - accuracy: 0.6409 - val_loss: 0.7798 - val_accuracy: 0.6383\n",
      "Epoch 39/50\n",
      "100/100 [==============================] - 0s 4ms/step - loss: 0.7667 - accuracy: 0.6409 - val_loss: 0.7757 - val_accuracy: 0.6383\n",
      "Epoch 40/50\n",
      "100/100 [==============================] - 0s 4ms/step - loss: 0.7692 - accuracy: 0.6387 - val_loss: 0.7751 - val_accuracy: 0.6379\n",
      "Epoch 41/50\n",
      "100/100 [==============================] - 0s 4ms/step - loss: 0.7660 - accuracy: 0.6429 - val_loss: 0.7766 - val_accuracy: 0.6397\n",
      "Epoch 42/50\n",
      "100/100 [==============================] - 0s 4ms/step - loss: 0.7632 - accuracy: 0.6434 - val_loss: 0.7772 - val_accuracy: 0.6405\n",
      "Epoch 43/50\n",
      "100/100 [==============================] - 0s 3ms/step - loss: 0.7638 - accuracy: 0.6413 - val_loss: 0.7746 - val_accuracy: 0.6439\n",
      "Epoch 44/50\n",
      "100/100 [==============================] - 0s 3ms/step - loss: 0.7613 - accuracy: 0.6472 - val_loss: 0.7773 - val_accuracy: 0.6407\n",
      "Epoch 45/50\n",
      "100/100 [==============================] - 0s 4ms/step - loss: 0.7633 - accuracy: 0.6442 - val_loss: 0.7739 - val_accuracy: 0.6395\n",
      "Epoch 46/50\n",
      "100/100 [==============================] - 0s 3ms/step - loss: 0.7629 - accuracy: 0.6420 - val_loss: 0.7783 - val_accuracy: 0.6396\n",
      "Epoch 47/50\n",
      "100/100 [==============================] - 0s 4ms/step - loss: 0.7590 - accuracy: 0.6419 - val_loss: 0.7765 - val_accuracy: 0.6402\n",
      "Epoch 48/50\n",
      "100/100 [==============================] - 0s 4ms/step - loss: 0.7593 - accuracy: 0.6450 - val_loss: 0.7708 - val_accuracy: 0.6446\n",
      "Epoch 49/50\n",
      "100/100 [==============================] - 0s 4ms/step - loss: 0.7568 - accuracy: 0.6482 - val_loss: 0.7757 - val_accuracy: 0.6434\n",
      "Epoch 50/50\n",
      "100/100 [==============================] - 0s 4ms/step - loss: 0.7633 - accuracy: 0.6402 - val_loss: 0.7708 - val_accuracy: 0.6450\n"
     ]
    }
   ],
   "source": [
    "sequential = model.fit(X_treino, y_treino, epochs=50, batch_size=256, validation_data=(X_teste, y_teste))"
   ]
  },
  {
   "cell_type": "markdown",
   "id": "a6d37667",
   "metadata": {},
   "source": [
    "### Tratamento da saída e previsões"
   ]
  },
  {
   "cell_type": "code",
   "execution_count": 9,
   "id": "7eee7d17",
   "metadata": {
    "tags": []
   },
   "outputs": [
    {
     "data": {
      "text/plain": [
       "(27,)"
      ]
     },
     "execution_count": 9,
     "metadata": {},
     "output_type": "execute_result"
    }
   ],
   "source": [
    "teste = np.array([list(X_teste.values)])[0][0]\n",
    "teste.shape"
   ]
  },
  {
   "cell_type": "code",
   "execution_count": 10,
   "id": "c57dab73",
   "metadata": {
    "tags": []
   },
   "outputs": [
    {
     "name": "stdout",
     "output_type": "stream",
     "text": [
      "341/341 [==============================] - 1s 1ms/step\n"
     ]
    },
    {
     "data": {
      "text/plain": [
       "array([[0.06175908, 0.5174547 , 0.42078623],\n",
       "       [0.18035686, 0.7196771 , 0.09996614],\n",
       "       [0.6123231 , 0.30878082, 0.07889605],\n",
       "       ...,\n",
       "       [0.18090671, 0.66676354, 0.15232982],\n",
       "       [0.4932276 , 0.4579425 , 0.04882984],\n",
       "       [0.07603126, 0.36060712, 0.5633616 ]], dtype=float32)"
      ]
     },
     "execution_count": 10,
     "metadata": {},
     "output_type": "execute_result"
    }
   ],
   "source": [
    "predicoes = model.predict(X_teste)\n",
    "predicoes"
   ]
  },
  {
   "cell_type": "code",
   "execution_count": 11,
   "id": "899703f0",
   "metadata": {},
   "outputs": [],
   "source": [
    "predicoes = list(predicoes)\n",
    "y_teste = list(y_teste)"
   ]
  },
  {
   "cell_type": "code",
   "execution_count": 12,
   "id": "4ee5b723",
   "metadata": {},
   "outputs": [],
   "source": [
    "predicoes = [list(predicoes[i]).index(max(predicoes[i])) for i in range(len(predicoes))]"
   ]
  },
  {
   "cell_type": "code",
   "execution_count": 35,
   "id": "7b07bf02-8bdb-4d35-8c11-dbdfcab95a0e",
   "metadata": {
    "tags": []
   },
   "outputs": [
    {
     "name": "stdout",
     "output_type": "stream",
     "text": [
      "Entrada: [1, 0, 0, 2, 0, 0, 1, 0, 0, 0, 0, 0, 0, 0, 1, 0, 0, 0, 0, 0, 1, 0, 0, 0, 0, 0, 0]\n",
      "Saída esperada: 2\n"
     ]
    }
   ],
   "source": [
    "Xt = X_teste.values.tolist()\n",
    "print(f'''Entrada: {Xt[0]}\n",
    "Saída esperada: {y_teste[0] + 1}''')"
   ]
  },
  {
   "cell_type": "markdown",
   "id": "5a0fb345",
   "metadata": {},
   "source": [
    "### Testes de acurácia do modelo"
   ]
  },
  {
   "cell_type": "code",
   "execution_count": 15,
   "id": "05ec1461",
   "metadata": {
    "tags": []
   },
   "outputs": [
    {
     "name": "stdout",
     "output_type": "stream",
     "text": [
      "MAE =  0.3889552513093816 \n",
      "MSE =  0.45695120830653313\n"
     ]
    }
   ],
   "source": [
    "from sklearn.metrics import mean_absolute_error, mean_squared_error, confusion_matrix, classification_report, accuracy_score\n",
    "mae = mean_absolute_error(y_teste, predicoes)\n",
    "mse = mean_squared_error(y_teste, predicoes)\n",
    "print('MAE = ', mae, '\\nMSE = ', mse)"
   ]
  },
  {
   "cell_type": "code",
   "execution_count": 16,
   "id": "e7dc6832-9c84-4d8c-895d-7e79e5965ae8",
   "metadata": {
    "tags": []
   },
   "outputs": [
    {
     "data": {
      "text/plain": [
       "0.6450427271891942"
      ]
     },
     "execution_count": 16,
     "metadata": {},
     "output_type": "execute_result"
    }
   ],
   "source": [
    "accuracy_score(y_teste,predicoes)"
   ]
  },
  {
   "cell_type": "code",
   "execution_count": 17,
   "id": "49b70b07",
   "metadata": {
    "tags": []
   },
   "outputs": [
    {
     "data": {
      "text/plain": [
       "array([[2177,  922,  142],\n",
       "       [ 924, 2517,  658],\n",
       "       [ 228,  989, 2326]], dtype=int64)"
      ]
     },
     "execution_count": 17,
     "metadata": {},
     "output_type": "execute_result"
    }
   ],
   "source": [
    "mtx = confusion_matrix(y_teste, predicoes)\n",
    "mtx"
   ]
  },
  {
   "cell_type": "code",
   "execution_count": 18,
   "id": "9b55aa0e",
   "metadata": {
    "tags": []
   },
   "outputs": [
    {
     "name": "stdout",
     "output_type": "stream",
     "text": [
      "              precision    recall  f1-score   support\n",
      "\n",
      "           0       0.65      0.67      0.66      3241\n",
      "           1       0.57      0.61      0.59      4099\n",
      "           2       0.74      0.66      0.70      3543\n",
      "\n",
      "    accuracy                           0.65     10883\n",
      "   macro avg       0.66      0.65      0.65     10883\n",
      "weighted avg       0.65      0.65      0.65     10883\n",
      "\n"
     ]
    }
   ],
   "source": [
    "print(classification_report(y_teste, predicoes))"
   ]
  },
  {
   "cell_type": "code",
   "execution_count": 19,
   "id": "02264b1d",
   "metadata": {},
   "outputs": [],
   "source": [
    "model.save('model.h5')"
   ]
  },
  {
   "cell_type": "code",
   "execution_count": 32,
   "id": "eac0eb4a",
   "metadata": {},
   "outputs": [],
   "source": [
    "s3 = boto3.client('s3')\n",
    "with open('model.h5', 'rb') as file:\n",
    "    s3.upload_fileobj(file, 'modelo-treinado-grupo4', 'modelos/model.h5')"
   ]
  }
 ],
 "metadata": {
  "instance_type": "ml.t3.medium",
  "kernelspec": {
   "display_name": "Python 3 (ipykernel)",
   "language": "python",
   "name": "python3"
  },
  "language_info": {
   "codemirror_mode": {
    "name": "ipython",
    "version": 3
   },
   "file_extension": ".py",
   "mimetype": "text/x-python",
   "name": "python",
   "nbconvert_exporter": "python",
   "pygments_lexer": "ipython3",
   "version": "3.9.13"
  }
 },
 "nbformat": 4,
 "nbformat_minor": 5
}
