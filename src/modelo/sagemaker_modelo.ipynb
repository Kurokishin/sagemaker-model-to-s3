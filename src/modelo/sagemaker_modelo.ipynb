{
 "cells": [
  {
   "cell_type": "markdown",
   "id": "5d893234",
   "metadata": {},
   "source": [
    "## Treinamento do modelo"
   ]
  },
  {
   "cell_type": "code",
   "execution_count": 125,
   "id": "ed34eb69",
   "metadata": {
    "tags": []
   },
   "outputs": [],
   "source": [
    "import pandas as pd\n",
    "import matplotlib.pyplot as plt\n",
    "%matplotlib inline\n",
    "import numpy as np\n",
    "import seaborn as sns\n",
    "import sagemaker\n",
    "import boto3\n",
    "from sagemaker import Session\n",
    "\n",
    "df = pd.read_csv(\"dataframe/Hotel Reservations tratado.csv\")"
   ]
  },
  {
   "cell_type": "code",
   "execution_count": 126,
   "id": "2646513e-d1c5-4c39-baf4-34c473f98170",
   "metadata": {
    "tags": []
   },
   "outputs": [
    {
     "data": {
      "text/plain": [
       "Index(['label_avg_price_per_room', 'room_type_reserved_1',\n",
       "       'room_type_reserved_2', 'room_type_reserved_3', 'room_type_reserved_4',\n",
       "       'room_type_reserved_5', 'room_type_reserved_6', 'room_type_reserved_7',\n",
       "       'arrival_year_2017', 'arrival_year_2018', 'no_of_adults_0',\n",
       "       'no_of_adults_1', 'no_of_adults_2', 'no_of_adults_3', 'no_of_adults_4',\n",
       "       'no_of_children_0', 'no_of_children_1', 'no_of_children_2',\n",
       "       'no_of_children_3', 'no_of_children_9', 'no_of_children_10',\n",
       "       'no_of_special_requests_0', 'no_of_special_requests_1',\n",
       "       'no_of_special_requests_2', 'no_of_special_requests_3',\n",
       "       'no_of_special_requests_4', 'no_of_special_requests_5'],\n",
       "      dtype='object')"
      ]
     },
     "execution_count": 126,
     "metadata": {},
     "output_type": "execute_result"
    }
   ],
   "source": [
    "df.columns"
   ]
  },
  {
   "cell_type": "code",
   "execution_count": 127,
   "id": "5647f262-bc18-45f9-b3d7-db4695380aaa",
   "metadata": {
    "tags": []
   },
   "outputs": [
    {
     "data": {
      "text/plain": [
       "(36275, 27)"
      ]
     },
     "execution_count": 127,
     "metadata": {},
     "output_type": "execute_result"
    }
   ],
   "source": [
    "df.shape"
   ]
  },
  {
   "cell_type": "code",
   "execution_count": null,
   "id": "f26dddf9-43f1-4de0-82ea-d50b3f91783b",
   "metadata": {},
   "outputs": [],
   "source": []
  },
  {
   "cell_type": "markdown",
   "id": "7fd31d7c",
   "metadata": {},
   "source": [
    "### Dropando colunas não numéricas e com pouca correlação com a coluna alvo do treinamento"
   ]
  },
  {
   "cell_type": "code",
   "execution_count": null,
   "id": "dacd25e1-f32a-4ad4-8a0a-e89218a3e2f7",
   "metadata": {
    "tags": []
   },
   "outputs": [],
   "source": []
  },
  {
   "cell_type": "markdown",
   "id": "7a392bd5",
   "metadata": {},
   "source": [
    "### Separação dos dados de treino e teste"
   ]
  },
  {
   "cell_type": "code",
   "execution_count": 90,
   "id": "442d1740-4e72-45f0-bcfb-bca1626bda9e",
   "metadata": {
    "tags": []
   },
   "outputs": [
    {
     "data": {
      "text/plain": [
       "(30000, 29)"
      ]
     },
     "execution_count": 90,
     "metadata": {},
     "output_type": "execute_result"
    }
   ],
   "source": [
    "data_treinamento = df.iloc[0:30000,:]\n",
    "data_treinamento.shape"
   ]
  },
  {
   "cell_type": "code",
   "execution_count": 91,
   "id": "2c090257-c549-4765-a109-822e39f2c437",
   "metadata": {
    "tags": []
   },
   "outputs": [
    {
     "data": {
      "text/plain": [
       "(6275, 29)"
      ]
     },
     "execution_count": 91,
     "metadata": {},
     "output_type": "execute_result"
    }
   ],
   "source": [
    "data_teste = df.iloc[30000:,:]\n",
    "data_teste.shape"
   ]
  },
  {
   "cell_type": "code",
   "execution_count": 116,
   "id": "80271ec4-6754-4be0-8b40-500b39b28501",
   "metadata": {
    "tags": []
   },
   "outputs": [],
   "source": [
    "x_teste = data_teste.iloc[:,:28].values\n"
   ]
  },
  {
   "cell_type": "code",
   "execution_count": 117,
   "id": "37c8ec4e-299f-4045-a5ec-500a63d743a7",
   "metadata": {
    "tags": []
   },
   "outputs": [
    {
     "data": {
      "text/plain": [
       "(6275, 28)"
      ]
     },
     "execution_count": 117,
     "metadata": {},
     "output_type": "execute_result"
    }
   ],
   "source": [
    "x_teste.shape"
   ]
  },
  {
   "cell_type": "code",
   "execution_count": 119,
   "id": "084a8e0c-a32b-4163-bd44-2be61cc851e5",
   "metadata": {
    "tags": []
   },
   "outputs": [
    {
     "data": {
      "text/plain": [
       "array([0, 0, 0, ..., 0, 0, 1])"
      ]
     },
     "execution_count": 119,
     "metadata": {},
     "output_type": "execute_result"
    }
   ],
   "source": [
    "y_teste = data_teste.iloc[:,28].values\n",
    "y_teste"
   ]
  },
  {
   "cell_type": "code",
   "execution_count": 101,
   "id": "5e445225-1dab-4b77-8528-c4603ed0c201",
   "metadata": {
    "tags": []
   },
   "outputs": [],
   "source": [
    "data_treinamento.to_csv('hotel-reservations-treino.csv', header = False, index = False)"
   ]
  },
  {
   "cell_type": "code",
   "execution_count": 102,
   "id": "ce6e1cb5-665e-4aaa-b717-a6b8de10f420",
   "metadata": {
    "tags": []
   },
   "outputs": [],
   "source": [
    "data_teste.to_csv('hotel-reservations-teste.csv', header = False, index = False)"
   ]
  },
  {
   "cell_type": "markdown",
   "id": "a6d37667",
   "metadata": {},
   "source": [
    "### Definição das pastas onde serão salvos os dados de treino, teste e o modelo treinado"
   ]
  },
  {
   "cell_type": "code",
   "execution_count": 103,
   "id": "7eee7d17",
   "metadata": {
    "tags": []
   },
   "outputs": [
    {
     "name": "stdout",
     "output_type": "stream",
     "text": [
      "Role: arn:aws:iam::528260343431:role/service-role/AmazonSageMaker-ExecutionRole-20230125T090598\n",
      "Dados de treinamento: s3://modelo-treinado-grupo4/datasets/treino/hotel-reservations-treino\n",
      "Dados de teste: s3://modelo-treinado-grupo4/datasets/teste/hotel-reservations-teste\n",
      "Modelo será salvo em: s3://modelo-treinado-grupo4/modelos/xgboost/output\n"
     ]
    }
   ],
   "source": [
    "session = sagemaker.Session()\n",
    "bucket = 'modelo-treinado-grupo4'\n",
    "pasta_modelo = 'modelos/xgboost'\n",
    "pasta_dataset = 'datasets'\n",
    "key_train = 'hotel-reservations-treino'\n",
    "key_test = 'hotel-reservations-teste'\n",
    "role = sagemaker.get_execution_role()\n",
    "s3_train_data = 's3://{}/{}/treino/{}'.format(bucket, pasta_dataset, key_train)\n",
    "s3_test_data = 's3://{}/{}/teste/{}'.format(bucket, pasta_dataset, key_test)\n",
    "output_location = 's3://{}/{}/output'.format(bucket, pasta_modelo)\n",
    "print('Role: {}'.format(role))\n",
    "print('Dados de treinamento: {}'.format(s3_train_data))\n",
    "print('Dados de teste: {}'.format(s3_test_data))\n",
    "print('Modelo será salvo em: {}'.format(output_location))"
   ]
  },
  {
   "cell_type": "code",
   "execution_count": 104,
   "id": "c57dab73",
   "metadata": {
    "tags": []
   },
   "outputs": [],
   "source": [
    "import os\n",
    "with open('hotel-reservations-treino.csv', 'rb') as f:\n",
    "    boto3.Session().resource('s3').Bucket(bucket).Object(os.path.join(pasta_dataset, 'treino', key_train)).upload_fileobj(f)"
   ]
  },
  {
   "cell_type": "code",
   "execution_count": 105,
   "id": "005040d2",
   "metadata": {
    "tags": []
   },
   "outputs": [],
   "source": [
    "import os\n",
    "with open('hotel-reservations-teste.csv', 'rb') as f:\n",
    "    boto3.Session().resource('s3').Bucket(bucket).Object(os.path.join(pasta_dataset, 'teste', key_test)).upload_fileobj(f)"
   ]
  },
  {
   "cell_type": "code",
   "execution_count": 106,
   "id": "c7066b4b",
   "metadata": {
    "tags": []
   },
   "outputs": [],
   "source": [
    "from sagemaker import image_uris\n",
    "container = image_uris.retrieve(framework = 'xgboost', region=boto3.Session().region_name, version='latest')"
   ]
  },
  {
   "cell_type": "markdown",
   "id": "3ba8dbb3",
   "metadata": {},
   "source": [
    "### Definição da instância, número de épocas e dados que serão utilizados para o treinamento:"
   ]
  },
  {
   "cell_type": "code",
   "execution_count": 107,
   "id": "165d7ab3",
   "metadata": {
    "tags": []
   },
   "outputs": [],
   "source": [
    "xgboost = sagemaker.estimator.Estimator(image_uri = container,\n",
    "                                        role = role,\n",
    "                                        instance_count = 1,\n",
    "                                        instance_type = 'ml.m5.xlarge',\n",
    "                                        output_path = output_location,\n",
    "                                        sagemaker_session = session)"
   ]
  },
  {
   "cell_type": "code",
   "execution_count": 108,
   "id": "6d4429ec-0aa5-46b1-93d5-f124145bae4e",
   "metadata": {
    "tags": []
   },
   "outputs": [],
   "source": [
    "xgboost.set_hyperparameters(num_round = 100)"
   ]
  },
  {
   "cell_type": "code",
   "execution_count": 109,
   "id": "18cf3c81-1705-476a-8c8c-77d1c3c26004",
   "metadata": {
    "tags": []
   },
   "outputs": [],
   "source": [
    "train_input = sagemaker.inputs.TrainingInput(s3_data = s3_train_data, content_type='csv', s3_data_type = 'S3Prefix')\n",
    "validation_input = sagemaker.inputs.TrainingInput(s3_data = s3_test_data, content_type='csv', s3_data_type = 'S3Prefix')\n",
    "data_channels = {'train': train_input, 'validation': validation_input}"
   ]
  },
  {
   "cell_type": "markdown",
   "id": "db117e0d",
   "metadata": {},
   "source": [
    "### Treinamento do modelo"
   ]
  },
  {
   "cell_type": "code",
   "execution_count": 110,
   "id": "e9a9d02a-18f1-40f4-a20b-7c04efd76a44",
   "metadata": {
    "tags": []
   },
   "outputs": [
    {
     "name": "stdout",
     "output_type": "stream",
     "text": [
      "2023-01-30 14:41:31 Starting - Starting the training job...\n",
      "2023-01-30 14:41:55 Starting - Preparing the instances for trainingProfilerReport-1675089691: InProgress\n",
      "......\n",
      "2023-01-30 14:42:55 Downloading - Downloading input data...\n",
      "2023-01-30 14:43:30 Training - Training image download completed. Training in progress...\u001b[34mArguments: train\u001b[0m\n",
      "\u001b[34m[2023-01-30:14:43:42:INFO] Running standalone xgboost training.\u001b[0m\n",
      "\u001b[34m[2023-01-30:14:43:42:INFO] File size need to be processed in the node: 2.01mb. Available memory size in the node: 8301.41mb\u001b[0m\n",
      "\u001b[34m[2023-01-30:14:43:42:INFO] Determined delimiter of CSV input is ','\u001b[0m\n",
      "\u001b[34m[14:43:42] S3DistributionType set as FullyReplicated\u001b[0m\n",
      "\u001b[34m[14:43:42] 30000x28 matrix with 840000 entries loaded from /opt/ml/input/data/train?format=csv&label_column=0&delimiter=,\u001b[0m\n",
      "\u001b[34m[2023-01-30:14:43:42:INFO] Determined delimiter of CSV input is ','\u001b[0m\n",
      "\u001b[34m[14:43:42] S3DistributionType set as FullyReplicated\u001b[0m\n",
      "\u001b[34m[14:43:42] 6275x28 matrix with 175700 entries loaded from /opt/ml/input/data/validation?format=csv&label_column=0&delimiter=,\u001b[0m\n",
      "\u001b[34m[14:43:42] src/tree/updater_prune.cc:74: tree pruning end, 1 roots, 12 extra nodes, 0 pruned nodes, max_depth=6\u001b[0m\n",
      "\u001b[34m[0]#011train-rmse:0.350034#011validation-rmse:0.350032\u001b[0m\n",
      "\u001b[34m[14:43:42] src/tree/updater_prune.cc:74: tree pruning end, 1 roots, 12 extra nodes, 0 pruned nodes, max_depth=6\u001b[0m\n",
      "\u001b[34m[1]#011train-rmse:0.245049#011validation-rmse:0.245046\u001b[0m\n",
      "\u001b[34m[14:43:42] src/tree/updater_prune.cc:74: tree pruning end, 1 roots, 12 extra nodes, 0 pruned nodes, max_depth=6\u001b[0m\n",
      "\u001b[34m[2]#011train-rmse:0.171551#011validation-rmse:0.171548\u001b[0m\n",
      "\u001b[34m[14:43:42] src/tree/updater_prune.cc:74: tree pruning end, 1 roots, 12 extra nodes, 0 pruned nodes, max_depth=6\u001b[0m\n",
      "\u001b[34m[3]#011train-rmse:0.120099#011validation-rmse:0.120096\u001b[0m\n",
      "\u001b[34m[14:43:42] src/tree/updater_prune.cc:74: tree pruning end, 1 roots, 12 extra nodes, 0 pruned nodes, max_depth=6\u001b[0m\n",
      "\u001b[34m[4]#011train-rmse:0.084078#011validation-rmse:0.084075\u001b[0m\n",
      "\u001b[34m[14:43:42] src/tree/updater_prune.cc:74: tree pruning end, 1 roots, 12 extra nodes, 0 pruned nodes, max_depth=6\u001b[0m\n",
      "\u001b[34m[5]#011train-rmse:0.058861#011validation-rmse:0.058859\u001b[0m\n",
      "\u001b[34m[14:43:42] src/tree/updater_prune.cc:74: tree pruning end, 1 roots, 12 extra nodes, 0 pruned nodes, max_depth=6\u001b[0m\n",
      "\u001b[34m[6]#011train-rmse:0.041207#011validation-rmse:0.041205\u001b[0m\n",
      "\u001b[34m[14:43:42] src/tree/updater_prune.cc:74: tree pruning end, 1 roots, 12 extra nodes, 0 pruned nodes, max_depth=6\u001b[0m\n",
      "\u001b[34m[7]#011train-rmse:0.028848#011validation-rmse:0.028847\u001b[0m\n",
      "\u001b[34m[14:43:42] src/tree/updater_prune.cc:74: tree pruning end, 1 roots, 12 extra nodes, 0 pruned nodes, max_depth=6\u001b[0m\n",
      "\u001b[34m[8]#011train-rmse:0.020196#011validation-rmse:0.020195\u001b[0m\n",
      "\u001b[34m[14:43:42] src/tree/updater_prune.cc:74: tree pruning end, 1 roots, 12 extra nodes, 0 pruned nodes, max_depth=6\u001b[0m\n",
      "\u001b[34m[9]#011train-rmse:0.014139#011validation-rmse:0.014138\u001b[0m\n",
      "\u001b[34m[14:43:42] src/tree/updater_prune.cc:74: tree pruning end, 1 roots, 12 extra nodes, 0 pruned nodes, max_depth=6\u001b[0m\n",
      "\u001b[34m[10]#011train-rmse:0.009899#011validation-rmse:0.009898\u001b[0m\n",
      "\u001b[34m[14:43:42] src/tree/updater_prune.cc:74: tree pruning end, 1 roots, 12 extra nodes, 0 pruned nodes, max_depth=6\u001b[0m\n",
      "\u001b[34m[11]#011train-rmse:0.00693#011validation-rmse:0.006929\u001b[0m\n",
      "\u001b[34m[14:43:42] src/tree/updater_prune.cc:74: tree pruning end, 1 roots, 12 extra nodes, 0 pruned nodes, max_depth=6\u001b[0m\n",
      "\u001b[34m[12]#011train-rmse:0.004852#011validation-rmse:0.004851\u001b[0m\n",
      "\u001b[34m[14:43:42] src/tree/updater_prune.cc:74: tree pruning end, 1 roots, 12 extra nodes, 0 pruned nodes, max_depth=6\u001b[0m\n",
      "\u001b[34m[13]#011train-rmse:0.003397#011validation-rmse:0.003396\u001b[0m\n",
      "\u001b[34m[14:43:42] src/tree/updater_prune.cc:74: tree pruning end, 1 roots, 12 extra nodes, 0 pruned nodes, max_depth=6\u001b[0m\n",
      "\u001b[34m[14]#011train-rmse:0.002378#011validation-rmse:0.002378\u001b[0m\n",
      "\u001b[34m[14:43:42] src/tree/updater_prune.cc:74: tree pruning end, 1 roots, 12 extra nodes, 0 pruned nodes, max_depth=6\u001b[0m\n",
      "\u001b[34m[15]#011train-rmse:0.001665#011validation-rmse:0.001665\u001b[0m\n",
      "\u001b[34m[14:43:42] src/tree/updater_prune.cc:74: tree pruning end, 1 roots, 12 extra nodes, 0 pruned nodes, max_depth=6\u001b[0m\n",
      "\u001b[34m[16]#011train-rmse:0.001166#011validation-rmse:0.001165\u001b[0m\n",
      "\u001b[34m[14:43:42] src/tree/updater_prune.cc:74: tree pruning end, 1 roots, 12 extra nodes, 0 pruned nodes, max_depth=6\u001b[0m\n",
      "\u001b[34m[17]#011train-rmse:0.000816#011validation-rmse:0.000816\u001b[0m\n",
      "\u001b[34m[14:43:42] src/tree/updater_prune.cc:74: tree pruning end, 1 roots, 12 extra nodes, 0 pruned nodes, max_depth=6\u001b[0m\n",
      "\u001b[34m[18]#011train-rmse:0.000571#011validation-rmse:0.000571\u001b[0m\n",
      "\u001b[34m[14:43:42] src/tree/updater_prune.cc:74: tree pruning end, 1 roots, 12 extra nodes, 0 pruned nodes, max_depth=6\u001b[0m\n",
      "\u001b[34m[19]#011train-rmse:0.0004#011validation-rmse:0.0004\u001b[0m\n",
      "\u001b[34m[14:43:42] src/tree/updater_prune.cc:74: tree pruning end, 1 roots, 12 extra nodes, 0 pruned nodes, max_depth=6\u001b[0m\n",
      "\u001b[34m[20]#011train-rmse:0.00028#011validation-rmse:0.00028\u001b[0m\n",
      "\u001b[34m[14:43:42] src/tree/updater_prune.cc:74: tree pruning end, 1 roots, 12 extra nodes, 0 pruned nodes, max_depth=6\u001b[0m\n",
      "\u001b[34m[21]#011train-rmse:0.000196#011validation-rmse:0.000196\u001b[0m\n",
      "\u001b[34m[14:43:42] src/tree/updater_prune.cc:74: tree pruning end, 1 roots, 12 extra nodes, 0 pruned nodes, max_depth=6\u001b[0m\n",
      "\u001b[34m[22]#011train-rmse:0.000137#011validation-rmse:0.000137\u001b[0m\n",
      "\u001b[34m[14:43:42] src/tree/updater_prune.cc:74: tree pruning end, 1 roots, 12 extra nodes, 0 pruned nodes, max_depth=6\u001b[0m\n",
      "\u001b[34m[23]#011train-rmse:9.6e-05#011validation-rmse:9.6e-05\u001b[0m\n",
      "\u001b[34m[14:43:42] src/tree/updater_prune.cc:74: tree pruning end, 1 roots, 12 extra nodes, 0 pruned nodes, max_depth=6\u001b[0m\n",
      "\u001b[34m[24]#011train-rmse:6.7e-05#011validation-rmse:6.7e-05\u001b[0m\n",
      "\u001b[34m[14:43:42] src/tree/updater_prune.cc:74: tree pruning end, 1 roots, 10 extra nodes, 0 pruned nodes, max_depth=5\u001b[0m\n",
      "\u001b[34m[25]#011train-rmse:4.7e-05#011validation-rmse:4.7e-05\u001b[0m\n",
      "\u001b[34m[14:43:42] src/tree/updater_prune.cc:74: tree pruning end, 1 roots, 10 extra nodes, 0 pruned nodes, max_depth=5\u001b[0m\n",
      "\u001b[34m[26]#011train-rmse:3.3e-05#011validation-rmse:3.3e-05\u001b[0m\n",
      "\u001b[34m[14:43:42] src/tree/updater_prune.cc:74: tree pruning end, 1 roots, 6 extra nodes, 0 pruned nodes, max_depth=3\u001b[0m\n",
      "\u001b[34m[27]#011train-rmse:2.4e-05#011validation-rmse:2.4e-05\u001b[0m\n",
      "\u001b[34m[14:43:42] src/tree/updater_prune.cc:74: tree pruning end, 1 roots, 4 extra nodes, 0 pruned nodes, max_depth=2\u001b[0m\n",
      "\u001b[34m[28]#011train-rmse:1.9e-05#011validation-rmse:1.8e-05\u001b[0m\n",
      "\u001b[34m[14:43:42] src/tree/updater_prune.cc:74: tree pruning end, 1 roots, 2 extra nodes, 0 pruned nodes, max_depth=1\u001b[0m\n",
      "\u001b[34m[29]#011train-rmse:1.6e-05#011validation-rmse:1.5e-05\u001b[0m\n",
      "\u001b[34m[14:43:42] src/tree/updater_prune.cc:74: tree pruning end, 1 roots, 2 extra nodes, 0 pruned nodes, max_depth=1\u001b[0m\n",
      "\u001b[34m[30]#011train-rmse:1.4e-05#011validation-rmse:1.3e-05\u001b[0m\n",
      "\u001b[34m[14:43:42] src/tree/updater_prune.cc:74: tree pruning end, 1 roots, 0 extra nodes, 0 pruned nodes, max_depth=0\u001b[0m\n",
      "\u001b[34m[31]#011train-rmse:1.4e-05#011validation-rmse:1.3e-05\u001b[0m\n",
      "\u001b[34m[14:43:42] src/tree/updater_prune.cc:74: tree pruning end, 1 roots, 0 extra nodes, 0 pruned nodes, max_depth=0\u001b[0m\n",
      "\u001b[34m[32]#011train-rmse:1.3e-05#011validation-rmse:1.3e-05\u001b[0m\n",
      "\u001b[34m[14:43:42] src/tree/updater_prune.cc:74: tree pruning end, 1 roots, 0 extra nodes, 0 pruned nodes, max_depth=0\u001b[0m\n",
      "\u001b[34m[33]#011train-rmse:1.3e-05#011validation-rmse:1.3e-05\u001b[0m\n",
      "\u001b[34m[14:43:42] src/tree/updater_prune.cc:74: tree pruning end, 1 roots, 0 extra nodes, 0 pruned nodes, max_depth=0\u001b[0m\n",
      "\u001b[34m[34]#011train-rmse:1.3e-05#011validation-rmse:1.3e-05\u001b[0m\n",
      "\u001b[34m[14:43:42] src/tree/updater_prune.cc:74: tree pruning end, 1 roots, 0 extra nodes, 0 pruned nodes, max_depth=0\u001b[0m\n",
      "\u001b[34m[35]#011train-rmse:1.3e-05#011validation-rmse:1.3e-05\u001b[0m\n",
      "\u001b[34m[14:43:42] src/tree/updater_prune.cc:74: tree pruning end, 1 roots, 0 extra nodes, 0 pruned nodes, max_depth=0\u001b[0m\n",
      "\u001b[34m[36]#011train-rmse:1.3e-05#011validation-rmse:1.3e-05\u001b[0m\n",
      "\u001b[34m[14:43:42] src/tree/updater_prune.cc:74: tree pruning end, 1 roots, 0 extra nodes, 0 pruned nodes, max_depth=0\u001b[0m\n",
      "\u001b[34m[37]#011train-rmse:1.3e-05#011validation-rmse:1.3e-05\u001b[0m\n",
      "\u001b[34m[14:43:42] src/tree/updater_prune.cc:74: tree pruning end, 1 roots, 0 extra nodes, 0 pruned nodes, max_depth=0\u001b[0m\n",
      "\u001b[34m[38]#011train-rmse:1.3e-05#011validation-rmse:1.3e-05\u001b[0m\n",
      "\u001b[34m[14:43:42] src/tree/updater_prune.cc:74: tree pruning end, 1 roots, 0 extra nodes, 0 pruned nodes, max_depth=0\u001b[0m\n",
      "\u001b[34m[39]#011train-rmse:1.3e-05#011validation-rmse:1.3e-05\u001b[0m\n",
      "\u001b[34m[14:43:42] src/tree/updater_prune.cc:74: tree pruning end, 1 roots, 0 extra nodes, 0 pruned nodes, max_depth=0\u001b[0m\n",
      "\u001b[34m[40]#011train-rmse:1.3e-05#011validation-rmse:1.3e-05\u001b[0m\n",
      "\u001b[34m[14:43:42] src/tree/updater_prune.cc:74: tree pruning end, 1 roots, 0 extra nodes, 0 pruned nodes, max_depth=0\u001b[0m\n",
      "\u001b[34m[41]#011train-rmse:1.3e-05#011validation-rmse:1.3e-05\u001b[0m\n",
      "\u001b[34m[14:43:42] src/tree/updater_prune.cc:74: tree pruning end, 1 roots, 0 extra nodes, 0 pruned nodes, max_depth=0\u001b[0m\n",
      "\u001b[34m[42]#011train-rmse:1.3e-05#011validation-rmse:1.3e-05\u001b[0m\n",
      "\u001b[34m[14:43:42] src/tree/updater_prune.cc:74: tree pruning end, 1 roots, 0 extra nodes, 0 pruned nodes, max_depth=0\u001b[0m\n",
      "\u001b[34m[43]#011train-rmse:1.3e-05#011validation-rmse:1.3e-05\u001b[0m\n",
      "\u001b[34m[14:43:42] src/tree/updater_prune.cc:74: tree pruning end, 1 roots, 0 extra nodes, 0 pruned nodes, max_depth=0\u001b[0m\n",
      "\u001b[34m[44]#011train-rmse:1.3e-05#011validation-rmse:1.3e-05\u001b[0m\n",
      "\u001b[34m[14:43:42] src/tree/updater_prune.cc:74: tree pruning end, 1 roots, 0 extra nodes, 0 pruned nodes, max_depth=0\u001b[0m\n",
      "\u001b[34m[45]#011train-rmse:1.3e-05#011validation-rmse:1.3e-05\u001b[0m\n",
      "\u001b[34m[14:43:43] src/tree/updater_prune.cc:74: tree pruning end, 1 roots, 0 extra nodes, 0 pruned nodes, max_depth=0\u001b[0m\n",
      "\u001b[34m[46]#011train-rmse:1.3e-05#011validation-rmse:1.3e-05\u001b[0m\n",
      "\u001b[34m[14:43:43] src/tree/updater_prune.cc:74: tree pruning end, 1 roots, 0 extra nodes, 0 pruned nodes, max_depth=0\u001b[0m\n",
      "\u001b[34m[47]#011train-rmse:1.3e-05#011validation-rmse:1.3e-05\u001b[0m\n",
      "\u001b[34m[14:43:43] src/tree/updater_prune.cc:74: tree pruning end, 1 roots, 0 extra nodes, 0 pruned nodes, max_depth=0\u001b[0m\n",
      "\u001b[34m[48]#011train-rmse:1.3e-05#011validation-rmse:1.3e-05\u001b[0m\n",
      "\u001b[34m[14:43:43] src/tree/updater_prune.cc:74: tree pruning end, 1 roots, 0 extra nodes, 0 pruned nodes, max_depth=0\u001b[0m\n",
      "\u001b[34m[49]#011train-rmse:1.3e-05#011validation-rmse:1.3e-05\u001b[0m\n",
      "\u001b[34m[14:43:43] src/tree/updater_prune.cc:74: tree pruning end, 1 roots, 0 extra nodes, 0 pruned nodes, max_depth=0\u001b[0m\n",
      "\u001b[34m[50]#011train-rmse:1.3e-05#011validation-rmse:1.3e-05\u001b[0m\n",
      "\u001b[34m[14:43:43] src/tree/updater_prune.cc:74: tree pruning end, 1 roots, 0 extra nodes, 0 pruned nodes, max_depth=0\u001b[0m\n",
      "\u001b[34m[51]#011train-rmse:1.3e-05#011validation-rmse:1.3e-05\u001b[0m\n",
      "\u001b[34m[14:43:43] src/tree/updater_prune.cc:74: tree pruning end, 1 roots, 0 extra nodes, 0 pruned nodes, max_depth=0\u001b[0m\n",
      "\u001b[34m[52]#011train-rmse:1.3e-05#011validation-rmse:1.3e-05\u001b[0m\n",
      "\u001b[34m[14:43:43] src/tree/updater_prune.cc:74: tree pruning end, 1 roots, 0 extra nodes, 0 pruned nodes, max_depth=0\u001b[0m\n",
      "\u001b[34m[53]#011train-rmse:1.3e-05#011validation-rmse:1.3e-05\u001b[0m\n",
      "\u001b[34m[14:43:43] src/tree/updater_prune.cc:74: tree pruning end, 1 roots, 0 extra nodes, 0 pruned nodes, max_depth=0\u001b[0m\n",
      "\u001b[34m[54]#011train-rmse:1.3e-05#011validation-rmse:1.3e-05\u001b[0m\n",
      "\u001b[34m[14:43:43] src/tree/updater_prune.cc:74: tree pruning end, 1 roots, 0 extra nodes, 0 pruned nodes, max_depth=0\u001b[0m\n",
      "\u001b[34m[55]#011train-rmse:1.3e-05#011validation-rmse:1.3e-05\u001b[0m\n",
      "\u001b[34m[14:43:43] src/tree/updater_prune.cc:74: tree pruning end, 1 roots, 0 extra nodes, 0 pruned nodes, max_depth=0\u001b[0m\n",
      "\u001b[34m[56]#011train-rmse:1.3e-05#011validation-rmse:1.3e-05\u001b[0m\n",
      "\u001b[34m[14:43:43] src/tree/updater_prune.cc:74: tree pruning end, 1 roots, 0 extra nodes, 0 pruned nodes, max_depth=0\u001b[0m\n",
      "\u001b[34m[57]#011train-rmse:1.3e-05#011validation-rmse:1.3e-05\u001b[0m\n",
      "\u001b[34m[14:43:43] src/tree/updater_prune.cc:74: tree pruning end, 1 roots, 0 extra nodes, 0 pruned nodes, max_depth=0\u001b[0m\n",
      "\u001b[34m[58]#011train-rmse:1.3e-05#011validation-rmse:1.3e-05\u001b[0m\n",
      "\u001b[34m[14:43:43] src/tree/updater_prune.cc:74: tree pruning end, 1 roots, 0 extra nodes, 0 pruned nodes, max_depth=0\u001b[0m\n",
      "\u001b[34m[59]#011train-rmse:1.3e-05#011validation-rmse:1.3e-05\u001b[0m\n",
      "\u001b[34m[14:43:43] src/tree/updater_prune.cc:74: tree pruning end, 1 roots, 0 extra nodes, 0 pruned nodes, max_depth=0\u001b[0m\n",
      "\u001b[34m[60]#011train-rmse:1.3e-05#011validation-rmse:1.3e-05\u001b[0m\n",
      "\u001b[34m[14:43:43] src/tree/updater_prune.cc:74: tree pruning end, 1 roots, 0 extra nodes, 0 pruned nodes, max_depth=0\u001b[0m\n",
      "\u001b[34m[61]#011train-rmse:1.3e-05#011validation-rmse:1.3e-05\u001b[0m\n",
      "\u001b[34m[14:43:43] src/tree/updater_prune.cc:74: tree pruning end, 1 roots, 0 extra nodes, 0 pruned nodes, max_depth=0\u001b[0m\n",
      "\u001b[34m[62]#011train-rmse:1.3e-05#011validation-rmse:1.3e-05\u001b[0m\n",
      "\u001b[34m[14:43:43] src/tree/updater_prune.cc:74: tree pruning end, 1 roots, 0 extra nodes, 0 pruned nodes, max_depth=0\u001b[0m\n",
      "\u001b[34m[63]#011train-rmse:1.3e-05#011validation-rmse:1.3e-05\u001b[0m\n",
      "\u001b[34m[14:43:43] src/tree/updater_prune.cc:74: tree pruning end, 1 roots, 0 extra nodes, 0 pruned nodes, max_depth=0\u001b[0m\n",
      "\u001b[34m[64]#011train-rmse:1.3e-05#011validation-rmse:1.3e-05\u001b[0m\n",
      "\u001b[34m[14:43:43] src/tree/updater_prune.cc:74: tree pruning end, 1 roots, 0 extra nodes, 0 pruned nodes, max_depth=0\u001b[0m\n",
      "\u001b[34m[65]#011train-rmse:1.3e-05#011validation-rmse:1.3e-05\u001b[0m\n",
      "\u001b[34m[14:43:43] src/tree/updater_prune.cc:74: tree pruning end, 1 roots, 0 extra nodes, 0 pruned nodes, max_depth=0\u001b[0m\n",
      "\u001b[34m[66]#011train-rmse:1.3e-05#011validation-rmse:1.3e-05\u001b[0m\n",
      "\u001b[34m[14:43:43] src/tree/updater_prune.cc:74: tree pruning end, 1 roots, 0 extra nodes, 0 pruned nodes, max_depth=0\u001b[0m\n",
      "\u001b[34m[67]#011train-rmse:1.3e-05#011validation-rmse:1.3e-05\u001b[0m\n",
      "\u001b[34m[14:43:43] src/tree/updater_prune.cc:74: tree pruning end, 1 roots, 0 extra nodes, 0 pruned nodes, max_depth=0\u001b[0m\n",
      "\u001b[34m[68]#011train-rmse:1.3e-05#011validation-rmse:1.3e-05\u001b[0m\n",
      "\u001b[34m[14:43:43] src/tree/updater_prune.cc:74: tree pruning end, 1 roots, 0 extra nodes, 0 pruned nodes, max_depth=0\u001b[0m\n",
      "\u001b[34m[69]#011train-rmse:1.3e-05#011validation-rmse:1.3e-05\u001b[0m\n",
      "\u001b[34m[14:43:43] src/tree/updater_prune.cc:74: tree pruning end, 1 roots, 0 extra nodes, 0 pruned nodes, max_depth=0\u001b[0m\n",
      "\u001b[34m[70]#011train-rmse:1.3e-05#011validation-rmse:1.3e-05\u001b[0m\n",
      "\u001b[34m[14:43:43] src/tree/updater_prune.cc:74: tree pruning end, 1 roots, 0 extra nodes, 0 pruned nodes, max_depth=0\u001b[0m\n",
      "\u001b[34m[71]#011train-rmse:1.3e-05#011validation-rmse:1.3e-05\u001b[0m\n",
      "\u001b[34m[14:43:43] src/tree/updater_prune.cc:74: tree pruning end, 1 roots, 0 extra nodes, 0 pruned nodes, max_depth=0\u001b[0m\n",
      "\u001b[34m[72]#011train-rmse:1.3e-05#011validation-rmse:1.3e-05\u001b[0m\n",
      "\u001b[34m[14:43:43] src/tree/updater_prune.cc:74: tree pruning end, 1 roots, 0 extra nodes, 0 pruned nodes, max_depth=0\u001b[0m\n",
      "\u001b[34m[73]#011train-rmse:1.3e-05#011validation-rmse:1.3e-05\u001b[0m\n",
      "\u001b[34m[14:43:43] src/tree/updater_prune.cc:74: tree pruning end, 1 roots, 0 extra nodes, 0 pruned nodes, max_depth=0\u001b[0m\n",
      "\u001b[34m[74]#011train-rmse:1.3e-05#011validation-rmse:1.3e-05\u001b[0m\n",
      "\u001b[34m[14:43:43] src/tree/updater_prune.cc:74: tree pruning end, 1 roots, 0 extra nodes, 0 pruned nodes, max_depth=0\u001b[0m\n",
      "\u001b[34m[75]#011train-rmse:1.3e-05#011validation-rmse:1.3e-05\u001b[0m\n",
      "\u001b[34m[14:43:43] src/tree/updater_prune.cc:74: tree pruning end, 1 roots, 0 extra nodes, 0 pruned nodes, max_depth=0\u001b[0m\n",
      "\u001b[34m[76]#011train-rmse:1.3e-05#011validation-rmse:1.3e-05\u001b[0m\n",
      "\u001b[34m[14:43:43] src/tree/updater_prune.cc:74: tree pruning end, 1 roots, 0 extra nodes, 0 pruned nodes, max_depth=0\u001b[0m\n",
      "\u001b[34m[77]#011train-rmse:1.3e-05#011validation-rmse:1.3e-05\u001b[0m\n",
      "\u001b[34m[14:43:43] src/tree/updater_prune.cc:74: tree pruning end, 1 roots, 0 extra nodes, 0 pruned nodes, max_depth=0\u001b[0m\n",
      "\u001b[34m[78]#011train-rmse:1.3e-05#011validation-rmse:1.3e-05\u001b[0m\n",
      "\u001b[34m[14:43:43] src/tree/updater_prune.cc:74: tree pruning end, 1 roots, 0 extra nodes, 0 pruned nodes, max_depth=0\u001b[0m\n",
      "\u001b[34m[79]#011train-rmse:1.3e-05#011validation-rmse:1.3e-05\u001b[0m\n",
      "\u001b[34m[14:43:43] src/tree/updater_prune.cc:74: tree pruning end, 1 roots, 0 extra nodes, 0 pruned nodes, max_depth=0\u001b[0m\n",
      "\u001b[34m[80]#011train-rmse:1.3e-05#011validation-rmse:1.3e-05\u001b[0m\n",
      "\u001b[34m[14:43:43] src/tree/updater_prune.cc:74: tree pruning end, 1 roots, 0 extra nodes, 0 pruned nodes, max_depth=0\u001b[0m\n",
      "\u001b[34m[81]#011train-rmse:1.3e-05#011validation-rmse:1.3e-05\u001b[0m\n",
      "\u001b[34m[14:43:43] src/tree/updater_prune.cc:74: tree pruning end, 1 roots, 0 extra nodes, 0 pruned nodes, max_depth=0\u001b[0m\n",
      "\u001b[34m[82]#011train-rmse:1.3e-05#011validation-rmse:1.3e-05\u001b[0m\n",
      "\u001b[34m[14:43:43] src/tree/updater_prune.cc:74: tree pruning end, 1 roots, 0 extra nodes, 0 pruned nodes, max_depth=0\u001b[0m\n",
      "\u001b[34m[83]#011train-rmse:1.3e-05#011validation-rmse:1.3e-05\u001b[0m\n",
      "\u001b[34m[14:43:43] src/tree/updater_prune.cc:74: tree pruning end, 1 roots, 0 extra nodes, 0 pruned nodes, max_depth=0\u001b[0m\n",
      "\u001b[34m[84]#011train-rmse:1.3e-05#011validation-rmse:1.3e-05\u001b[0m\n",
      "\u001b[34m[14:43:43] src/tree/updater_prune.cc:74: tree pruning end, 1 roots, 0 extra nodes, 0 pruned nodes, max_depth=0\u001b[0m\n",
      "\u001b[34m[85]#011train-rmse:1.3e-05#011validation-rmse:1.3e-05\u001b[0m\n",
      "\u001b[34m[14:43:43] src/tree/updater_prune.cc:74: tree pruning end, 1 roots, 0 extra nodes, 0 pruned nodes, max_depth=0\u001b[0m\n",
      "\u001b[34m[86]#011train-rmse:1.3e-05#011validation-rmse:1.3e-05\u001b[0m\n",
      "\u001b[34m[14:43:43] src/tree/updater_prune.cc:74: tree pruning end, 1 roots, 0 extra nodes, 0 pruned nodes, max_depth=0\u001b[0m\n",
      "\u001b[34m[87]#011train-rmse:1.3e-05#011validation-rmse:1.3e-05\u001b[0m\n",
      "\u001b[34m[14:43:43] src/tree/updater_prune.cc:74: tree pruning end, 1 roots, 0 extra nodes, 0 pruned nodes, max_depth=0\u001b[0m\n",
      "\u001b[34m[88]#011train-rmse:1.3e-05#011validation-rmse:1.3e-05\u001b[0m\n",
      "\u001b[34m[14:43:43] src/tree/updater_prune.cc:74: tree pruning end, 1 roots, 0 extra nodes, 0 pruned nodes, max_depth=0\u001b[0m\n",
      "\u001b[34m[89]#011train-rmse:1.3e-05#011validation-rmse:1.3e-05\u001b[0m\n",
      "\u001b[34m[14:43:43] src/tree/updater_prune.cc:74: tree pruning end, 1 roots, 0 extra nodes, 0 pruned nodes, max_depth=0\u001b[0m\n",
      "\u001b[34m[90]#011train-rmse:1.3e-05#011validation-rmse:1.3e-05\u001b[0m\n",
      "\u001b[34m[14:43:43] src/tree/updater_prune.cc:74: tree pruning end, 1 roots, 0 extra nodes, 0 pruned nodes, max_depth=0\u001b[0m\n",
      "\u001b[34m[91]#011train-rmse:1.3e-05#011validation-rmse:1.3e-05\u001b[0m\n",
      "\u001b[34m[14:43:43] src/tree/updater_prune.cc:74: tree pruning end, 1 roots, 0 extra nodes, 0 pruned nodes, max_depth=0\u001b[0m\n",
      "\u001b[34m[92]#011train-rmse:1.3e-05#011validation-rmse:1.3e-05\u001b[0m\n",
      "\u001b[34m[14:43:43] src/tree/updater_prune.cc:74: tree pruning end, 1 roots, 0 extra nodes, 0 pruned nodes, max_depth=0\u001b[0m\n",
      "\u001b[34m[93]#011train-rmse:1.3e-05#011validation-rmse:1.3e-05\u001b[0m\n",
      "\u001b[34m[14:43:43] src/tree/updater_prune.cc:74: tree pruning end, 1 roots, 0 extra nodes, 0 pruned nodes, max_depth=0\u001b[0m\n",
      "\u001b[34m[94]#011train-rmse:1.3e-05#011validation-rmse:1.3e-05\u001b[0m\n",
      "\u001b[34m[14:43:43] src/tree/updater_prune.cc:74: tree pruning end, 1 roots, 0 extra nodes, 0 pruned nodes, max_depth=0\u001b[0m\n",
      "\u001b[34m[95]#011train-rmse:1.3e-05#011validation-rmse:1.3e-05\u001b[0m\n",
      "\u001b[34m[14:43:43] src/tree/updater_prune.cc:74: tree pruning end, 1 roots, 0 extra nodes, 0 pruned nodes, max_depth=0\u001b[0m\n",
      "\u001b[34m[96]#011train-rmse:1.3e-05#011validation-rmse:1.3e-05\u001b[0m\n",
      "\u001b[34m[14:43:43] src/tree/updater_prune.cc:74: tree pruning end, 1 roots, 0 extra nodes, 0 pruned nodes, max_depth=0\u001b[0m\n",
      "\u001b[34m[97]#011train-rmse:1.3e-05#011validation-rmse:1.3e-05\u001b[0m\n",
      "\u001b[34m[14:43:43] src/tree/updater_prune.cc:74: tree pruning end, 1 roots, 0 extra nodes, 0 pruned nodes, max_depth=0\u001b[0m\n",
      "\u001b[34m[98]#011train-rmse:1.3e-05#011validation-rmse:1.3e-05\u001b[0m\n",
      "\u001b[34m[14:43:43] src/tree/updater_prune.cc:74: tree pruning end, 1 roots, 0 extra nodes, 0 pruned nodes, max_depth=0\u001b[0m\n",
      "\u001b[34m[99]#011train-rmse:1.3e-05#011validation-rmse:1.3e-05\u001b[0m\n",
      "\n",
      "2023-01-30 14:44:02 Uploading - Uploading generated training model\n",
      "2023-01-30 14:44:02 Completed - Training job completed\n",
      "Training seconds: 83\n",
      "Billable seconds: 83\n"
     ]
    }
   ],
   "source": [
    "xgboost.fit(data_channels)"
   ]
  },
  {
   "cell_type": "markdown",
   "id": "c95a205a",
   "metadata": {},
   "source": [
    "### Deploy do modelo e previsões"
   ]
  },
  {
   "cell_type": "code",
   "execution_count": 111,
   "id": "24b18604",
   "metadata": {
    "tags": []
   },
   "outputs": [
    {
     "name": "stdout",
     "output_type": "stream",
     "text": [
      "---------!"
     ]
    }
   ],
   "source": [
    "xgboost_regressor = xgboost.deploy(initial_instance_count = 1, instance_type = 'ml.m4.xlarge')"
   ]
  },
  {
   "cell_type": "code",
   "execution_count": 112,
   "id": "35b35095",
   "metadata": {
    "tags": []
   },
   "outputs": [],
   "source": [
    "from sagemaker.serializers import CSVSerializer\n",
    "xgboost_regressor.serializer = CSVSerializer()"
   ]
  },
  {
   "cell_type": "code",
   "execution_count": 120,
   "id": "dc99458b",
   "metadata": {
    "tags": []
   },
   "outputs": [],
   "source": [
    "previsoes = np.array(xgboost_regressor.predict(x_teste).decode('utf-8').split(',')).astype(np.float32)"
   ]
  },
  {
   "cell_type": "code",
   "execution_count": 131,
   "id": "4c110244",
   "metadata": {
    "tags": []
   },
   "outputs": [
    {
     "data": {
      "text/plain": [
       "array([False, False, False, ..., False, False, False])"
      ]
     },
     "execution_count": 131,
     "metadata": {},
     "output_type": "execute_result"
    }
   ],
   "source": [
    "previsoes = (previsoes >= 0.5)\n",
    "previsoes"
   ]
  },
  {
   "cell_type": "code",
   "execution_count": null,
   "id": "7b07bf02-8bdb-4d35-8c11-dbdfcab95a0e",
   "metadata": {},
   "outputs": [],
   "source": []
  },
  {
   "cell_type": "markdown",
   "id": "5a0fb345",
   "metadata": {},
   "source": [
    "### Testes de acurácia do modelo"
   ]
  },
  {
   "cell_type": "code",
   "execution_count": 132,
   "id": "05ec1461",
   "metadata": {
    "tags": []
   },
   "outputs": [
    {
     "name": "stdout",
     "output_type": "stream",
     "text": [
      "MAE =  0.32812749003984065 \n",
      "MSE =  0.32812749003984065 \n",
      "RMSE =  0.5728241353503191\n"
     ]
    }
   ],
   "source": [
    "from sklearn.metrics import mean_absolute_error, mean_squared_error, confusion_matrix, classification_report, accuracy_score\n",
    "import math\n",
    "mae = mean_absolute_error(y_teste, previsoes)\n",
    "mse = mean_squared_error(y_teste, previsoes)\n",
    "rmse = math.sqrt(mean_squared_error(y_teste, previsoes))\n",
    "print('MAE = ', mae, '\\nMSE = ', mse, '\\nRMSE = ', rmse)"
   ]
  },
  {
   "cell_type": "code",
   "execution_count": 133,
   "id": "e7dc6832-9c84-4d8c-895d-7e79e5965ae8",
   "metadata": {
    "tags": []
   },
   "outputs": [
    {
     "data": {
      "text/plain": [
       "0.6718725099601593"
      ]
     },
     "execution_count": 133,
     "metadata": {},
     "output_type": "execute_result"
    }
   ],
   "source": [
    "accuracy_score(y_teste,previsoes)"
   ]
  },
  {
   "cell_type": "code",
   "execution_count": 134,
   "id": "49b70b07",
   "metadata": {
    "tags": []
   },
   "outputs": [
    {
     "data": {
      "text/plain": [
       "array([[4199,    8],\n",
       "       [2051,   17]])"
      ]
     },
     "execution_count": 134,
     "metadata": {},
     "output_type": "execute_result"
    }
   ],
   "source": [
    "mtx = confusion_matrix(y_teste, previsoes)\n",
    "mtx"
   ]
  },
  {
   "cell_type": "code",
   "execution_count": 53,
   "id": "22eb02c0",
   "metadata": {
    "tags": []
   },
   "outputs": [
    {
     "ename": "ValueError",
     "evalue": "Classification metrics can't handle a mix of multiclass and continuous targets",
     "output_type": "error",
     "traceback": [
      "\u001b[0;31m---------------------------------------------------------------------------\u001b[0m",
      "\u001b[0;31mValueError\u001b[0m                                Traceback (most recent call last)",
      "\u001b[0;32m<ipython-input-53-ed931fef26e7>\u001b[0m in \u001b[0;36m<module>\u001b[0;34m\u001b[0m\n\u001b[1;32m      2\u001b[0m \u001b[0;32mfrom\u001b[0m \u001b[0msklearn\u001b[0m\u001b[0;34m.\u001b[0m\u001b[0mmetrics\u001b[0m \u001b[0;32mimport\u001b[0m \u001b[0maccuracy_score\u001b[0m\u001b[0;34m\u001b[0m\u001b[0;34m\u001b[0m\u001b[0m\n\u001b[1;32m      3\u001b[0m \u001b[0;34m\u001b[0m\u001b[0m\n\u001b[0;32m----> 4\u001b[0;31m \u001b[0maccuracy\u001b[0m \u001b[0;34m=\u001b[0m \u001b[0maccuracy_score\u001b[0m\u001b[0;34m(\u001b[0m\u001b[0my_teste\u001b[0m\u001b[0;34m,\u001b[0m \u001b[0mprevisoes\u001b[0m\u001b[0;34m)\u001b[0m\u001b[0;34m\u001b[0m\u001b[0;34m\u001b[0m\u001b[0m\n\u001b[0m\u001b[1;32m      5\u001b[0m \u001b[0maccuracy\u001b[0m\u001b[0;34m\u001b[0m\u001b[0;34m\u001b[0m\u001b[0m\n",
      "\u001b[0;32m/opt/conda/lib/python3.7/site-packages/sklearn/metrics/_classification.py\u001b[0m in \u001b[0;36maccuracy_score\u001b[0;34m(y_true, y_pred, normalize, sample_weight)\u001b[0m\n\u001b[1;32m    183\u001b[0m \u001b[0;34m\u001b[0m\u001b[0m\n\u001b[1;32m    184\u001b[0m     \u001b[0;31m# Compute accuracy for each possible representation\u001b[0m\u001b[0;34m\u001b[0m\u001b[0;34m\u001b[0m\u001b[0;34m\u001b[0m\u001b[0m\n\u001b[0;32m--> 185\u001b[0;31m     \u001b[0my_type\u001b[0m\u001b[0;34m,\u001b[0m \u001b[0my_true\u001b[0m\u001b[0;34m,\u001b[0m \u001b[0my_pred\u001b[0m \u001b[0;34m=\u001b[0m \u001b[0m_check_targets\u001b[0m\u001b[0;34m(\u001b[0m\u001b[0my_true\u001b[0m\u001b[0;34m,\u001b[0m \u001b[0my_pred\u001b[0m\u001b[0;34m)\u001b[0m\u001b[0;34m\u001b[0m\u001b[0;34m\u001b[0m\u001b[0m\n\u001b[0m\u001b[1;32m    186\u001b[0m     \u001b[0mcheck_consistent_length\u001b[0m\u001b[0;34m(\u001b[0m\u001b[0my_true\u001b[0m\u001b[0;34m,\u001b[0m \u001b[0my_pred\u001b[0m\u001b[0;34m,\u001b[0m \u001b[0msample_weight\u001b[0m\u001b[0;34m)\u001b[0m\u001b[0;34m\u001b[0m\u001b[0;34m\u001b[0m\u001b[0m\n\u001b[1;32m    187\u001b[0m     \u001b[0;32mif\u001b[0m \u001b[0my_type\u001b[0m\u001b[0;34m.\u001b[0m\u001b[0mstartswith\u001b[0m\u001b[0;34m(\u001b[0m\u001b[0;34m'multilabel'\u001b[0m\u001b[0;34m)\u001b[0m\u001b[0;34m:\u001b[0m\u001b[0;34m\u001b[0m\u001b[0;34m\u001b[0m\u001b[0m\n",
      "\u001b[0;32m/opt/conda/lib/python3.7/site-packages/sklearn/metrics/_classification.py\u001b[0m in \u001b[0;36m_check_targets\u001b[0;34m(y_true, y_pred)\u001b[0m\n\u001b[1;32m     88\u001b[0m     \u001b[0;32mif\u001b[0m \u001b[0mlen\u001b[0m\u001b[0;34m(\u001b[0m\u001b[0my_type\u001b[0m\u001b[0;34m)\u001b[0m \u001b[0;34m>\u001b[0m \u001b[0;36m1\u001b[0m\u001b[0;34m:\u001b[0m\u001b[0;34m\u001b[0m\u001b[0;34m\u001b[0m\u001b[0m\n\u001b[1;32m     89\u001b[0m         raise ValueError(\"Classification metrics can't handle a mix of {0} \"\n\u001b[0;32m---> 90\u001b[0;31m                          \"and {1} targets\".format(type_true, type_pred))\n\u001b[0m\u001b[1;32m     91\u001b[0m \u001b[0;34m\u001b[0m\u001b[0m\n\u001b[1;32m     92\u001b[0m     \u001b[0;31m# We can't have more than one value on y_type => The set is no more needed\u001b[0m\u001b[0;34m\u001b[0m\u001b[0;34m\u001b[0m\u001b[0;34m\u001b[0m\u001b[0m\n",
      "\u001b[0;31mValueError\u001b[0m: Classification metrics can't handle a mix of multiclass and continuous targets"
     ]
    }
   ],
   "source": []
  },
  {
   "cell_type": "code",
   "execution_count": 135,
   "id": "9b55aa0e",
   "metadata": {
    "tags": []
   },
   "outputs": [
    {
     "name": "stdout",
     "output_type": "stream",
     "text": [
      "              precision    recall  f1-score   support\n",
      "\n",
      "           0       0.67      1.00      0.80      4207\n",
      "           1       0.68      0.01      0.02      2068\n",
      "\n",
      "    accuracy                           0.67      6275\n",
      "   macro avg       0.68      0.50      0.41      6275\n",
      "weighted avg       0.67      0.67      0.54      6275\n",
      "\n"
     ]
    }
   ],
   "source": [
    "print(classification_report(y_teste, previsoes))"
   ]
  },
  {
   "cell_type": "code",
   "execution_count": null,
   "id": "02264b1d",
   "metadata": {},
   "outputs": [],
   "source": []
  },
  {
   "cell_type": "code",
   "execution_count": null,
   "id": "eac0eb4a",
   "metadata": {},
   "outputs": [],
   "source": []
  },
  {
   "cell_type": "code",
   "execution_count": null,
   "id": "9030657f",
   "metadata": {},
   "outputs": [],
   "source": []
  },
  {
   "cell_type": "code",
   "execution_count": null,
   "id": "54ff56b5",
   "metadata": {},
   "outputs": [],
   "source": []
  },
  {
   "cell_type": "code",
   "execution_count": null,
   "id": "3fda7146",
   "metadata": {},
   "outputs": [],
   "source": []
  }
 ],
 "metadata": {
  "instance_type": "ml.t3.medium",
  "kernelspec": {
   "display_name": "Python 3 (Data Science)",
   "language": "python",
   "name": "python3__SAGEMAKER_INTERNAL__arn:aws:sagemaker:us-east-1:081325390199:image/datascience-1.0"
  },
  "language_info": {
   "codemirror_mode": {
    "name": "ipython",
    "version": 3
   },
   "file_extension": ".py",
   "mimetype": "text/x-python",
   "name": "python",
   "nbconvert_exporter": "python",
   "pygments_lexer": "ipython3",
   "version": "3.7.10"
  }
 },
 "nbformat": 4,
 "nbformat_minor": 5
}
