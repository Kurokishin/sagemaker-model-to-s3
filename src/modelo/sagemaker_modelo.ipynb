{
 "cells": [
  {
   "cell_type": "code",
   "execution_count": 2,
   "id": "fd0c23d9",
   "metadata": {},
   "outputs": [],
   "source": [
    "#-- Código Samara --#"
   ]
  },
  {
   "cell_type": "code",
   "execution_count": null,
   "id": "250638e7",
   "metadata": {},
   "outputs": [],
   "source": []
  },
  {
   "cell_type": "code",
   "execution_count": 3,
   "id": "ed34eb69",
   "metadata": {
    "tags": []
   },
   "outputs": [],
   "source": [
    "import pandas as pd\n",
    "import matplotlib.pyplot as plt\n",
    "%matplotlib inline\n",
    "import numpy as np\n",
    "import seaborn as sns\n",
    "import sagemaker\n",
    "import boto3\n",
    "from sagemaker import Session\n",
    "\n",
    "df = pd.read_csv(\"dataframe/Hotel Reservations tratado.csv\")"
   ]
  },
  {
   "cell_type": "code",
   "execution_count": 4,
   "id": "2646513e-d1c5-4c39-baf4-34c473f98170",
   "metadata": {
    "tags": []
   },
   "outputs": [
    {
     "data": {
      "text/plain": [
       "Index(['Booking_ID', 'no_of_adults', 'no_of_children', 'no_of_weekend_nights',\n",
       "       'no_of_week_nights', 'type_of_meal_plan', 'required_car_parking_space',\n",
       "       'room_type_reserved', 'lead_time', 'arrival_year', 'arrival_month',\n",
       "       'arrival_date', 'market_segment_type', 'repeated_guest',\n",
       "       'no_of_previous_cancellations', 'no_of_previous_bookings_not_canceled',\n",
       "       'no_of_special_requests', 'booking_status', 'label_avg_price_per_room'],\n",
       "      dtype='object')"
      ]
     },
     "execution_count": 4,
     "metadata": {},
     "output_type": "execute_result"
    }
   ],
   "source": [
    "df.columns"
   ]
  },
  {
   "cell_type": "code",
   "execution_count": 5,
   "id": "dacd25e1-f32a-4ad4-8a0a-e89218a3e2f7",
   "metadata": {
    "tags": []
   },
   "outputs": [],
   "source": [
    "df.drop(columns = ['Booking_ID', 'type_of_meal_plan', 'room_type_reserved', 'market_segment_type', 'booking_status', 'no_of_weekend_nights', 'no_of_week_nights', 'repeated_guest', 'lead_time', 'no_of_previous_cancellations', 'no_of_previous_bookings_not_canceled'], axis = 1, inplace = True)"
   ]
  },
  {
   "cell_type": "code",
   "execution_count": 6,
   "id": "442d1740-4e72-45f0-bcfb-bca1626bda9e",
   "metadata": {
    "tags": []
   },
   "outputs": [
    {
     "data": {
      "text/plain": [
       "(30000, 8)"
      ]
     },
     "execution_count": 6,
     "metadata": {},
     "output_type": "execute_result"
    }
   ],
   "source": [
    "data_treinamento = df.iloc[0:30000,:]\n",
    "data_treinamento.shape"
   ]
  },
  {
   "cell_type": "code",
   "execution_count": 7,
   "id": "2c090257-c549-4765-a109-822e39f2c437",
   "metadata": {
    "tags": []
   },
   "outputs": [
    {
     "data": {
      "text/plain": [
       "(6275, 8)"
      ]
     },
     "execution_count": 7,
     "metadata": {},
     "output_type": "execute_result"
    }
   ],
   "source": [
    "data_teste = df.iloc[30000:,:]\n",
    "data_teste.shape"
   ]
  },
  {
   "cell_type": "code",
   "execution_count": 8,
   "id": "80271ec4-6754-4be0-8b40-500b39b28501",
   "metadata": {
    "tags": []
   },
   "outputs": [],
   "source": [
    "x_teste = data_teste.iloc[:,:7].values\n"
   ]
  },
  {
   "cell_type": "code",
   "execution_count": 9,
   "id": "37c8ec4e-299f-4045-a5ec-500a63d743a7",
   "metadata": {
    "tags": []
   },
   "outputs": [
    {
     "data": {
      "text/plain": [
       "array([   2,    0,    0, 2017,   10,   16,    0])"
      ]
     },
     "execution_count": 9,
     "metadata": {},
     "output_type": "execute_result"
    }
   ],
   "source": [
    "x_teste[0]"
   ]
  },
  {
   "cell_type": "code",
   "execution_count": 10,
   "id": "084a8e0c-a32b-4163-bd44-2be61cc851e5",
   "metadata": {
    "tags": []
   },
   "outputs": [
    {
     "data": {
      "text/plain": [
       "array([2, 1, 2, ..., 2, 2, 3])"
      ]
     },
     "execution_count": 10,
     "metadata": {},
     "output_type": "execute_result"
    }
   ],
   "source": [
    "y_teste = data_teste.iloc[:,7].values\n",
    "y_teste"
   ]
  },
  {
   "cell_type": "code",
   "execution_count": 11,
   "id": "5e445225-1dab-4b77-8528-c4603ed0c201",
   "metadata": {
    "tags": []
   },
   "outputs": [],
   "source": [
    "data_treinamento.to_csv('hotel-reservations-treino.csv', header = False, index = False)"
   ]
  },
  {
   "cell_type": "code",
   "execution_count": 12,
   "id": "ce6e1cb5-665e-4aaa-b717-a6b8de10f420",
   "metadata": {
    "tags": []
   },
   "outputs": [],
   "source": [
    "data_teste.to_csv('hotel-reservations-teste.csv', header = False, index = False)"
   ]
  },
  {
   "cell_type": "code",
   "execution_count": null,
   "id": "717e24b3-dade-4b0d-a1c1-f3168faeaa46",
   "metadata": {},
   "outputs": [],
   "source": []
  },
  {
   "cell_type": "code",
   "execution_count": 13,
   "id": "7eee7d17",
   "metadata": {
    "tags": []
   },
   "outputs": [
    {
     "name": "stdout",
     "output_type": "stream",
     "text": [
      "Role: arn:aws:iam::528260343431:role/service-role/AmazonSageMaker-ExecutionRole-20230125T090598\n",
      "Dados de treinamento: s3://modelo-treinado-grupo4/datasets/treino/hotel-reservations-treino\n",
      "Dados de teste: s3://modelo-treinado-grupo4/datasets/teste/hotel-reservations-teste\n",
      "Modelo será salvo em: s3://modelo-treinado-grupo4/modelos/xgboost/output\n"
     ]
    }
   ],
   "source": [
    "session = sagemaker.Session()\n",
    "bucket = 'modelo-treinado-grupo4'\n",
    "pasta_modelo = 'modelos/xgboost'\n",
    "pasta_dataset = 'datasets'\n",
    "key_train = 'hotel-reservations-treino'\n",
    "key_test = 'hotel-reservations-teste'\n",
    "role = sagemaker.get_execution_role()\n",
    "s3_train_data = 's3://{}/{}/treino/{}'.format(bucket, pasta_dataset, key_train)\n",
    "s3_test_data = 's3://{}/{}/teste/{}'.format(bucket, pasta_dataset, key_test)\n",
    "output_location = 's3://{}/{}/output'.format(bucket, pasta_modelo)\n",
    "print('Role: {}'.format(role))\n",
    "print('Dados de treinamento: {}'.format(s3_train_data))\n",
    "print('Dados de teste: {}'.format(s3_test_data))\n",
    "print('Modelo será salvo em: {}'.format(output_location))"
   ]
  },
  {
   "cell_type": "code",
   "execution_count": 14,
   "id": "c57dab73",
   "metadata": {
    "tags": []
   },
   "outputs": [],
   "source": [
    "import os\n",
    "with open('hotel-reservations-treino.csv', 'rb') as f:\n",
    "    boto3.Session().resource('s3').Bucket(bucket).Object(os.path.join(pasta_dataset, 'treino', key_train)).upload_fileobj(f)"
   ]
  },
  {
   "cell_type": "code",
   "execution_count": 15,
   "id": "005040d2",
   "metadata": {
    "tags": []
   },
   "outputs": [],
   "source": [
    "import os\n",
    "with open('hotel-reservations-teste.csv', 'rb') as f:\n",
    "    boto3.Session().resource('s3').Bucket(bucket).Object(os.path.join(pasta_dataset, 'teste', key_test)).upload_fileobj(f)"
   ]
  },
  {
   "cell_type": "code",
   "execution_count": 16,
   "id": "c7066b4b",
   "metadata": {
    "tags": []
   },
   "outputs": [],
   "source": [
    "from sagemaker import image_uris\n",
    "container = image_uris.retrieve(framework = 'xgboost', region=boto3.Session().region_name, version='latest')"
   ]
  },
  {
   "cell_type": "code",
   "execution_count": 17,
   "id": "165d7ab3",
   "metadata": {
    "tags": []
   },
   "outputs": [],
   "source": [
    "xgboost = sagemaker.estimator.Estimator(image_uri = container,\n",
    "                                        role = role,\n",
    "                                        instance_count = 1,\n",
    "                                        instance_type = 'ml.m5.xlarge',\n",
    "                                        output_path = output_location,\n",
    "                                        sagemaker_session = session)"
   ]
  },
  {
   "cell_type": "code",
   "execution_count": 18,
   "id": "6d4429ec-0aa5-46b1-93d5-f124145bae4e",
   "metadata": {
    "tags": []
   },
   "outputs": [],
   "source": [
    "xgboost.set_hyperparameters(num_round = 100)"
   ]
  },
  {
   "cell_type": "code",
   "execution_count": 19,
   "id": "18cf3c81-1705-476a-8c8c-77d1c3c26004",
   "metadata": {
    "tags": []
   },
   "outputs": [],
   "source": [
    "train_input = sagemaker.inputs.TrainingInput(s3_data = s3_train_data, content_type='csv', s3_data_type = 'S3Prefix')\n",
    "validation_input = sagemaker.inputs.TrainingInput(s3_data = s3_test_data, content_type='csv', s3_data_type = 'S3Prefix')\n",
    "data_channels = {'train': train_input, 'validation': validation_input}"
   ]
  },
  {
   "cell_type": "code",
   "execution_count": 20,
   "id": "e9a9d02a-18f1-40f4-a20b-7c04efd76a44",
   "metadata": {
    "tags": []
   },
   "outputs": [
    {
     "name": "stdout",
     "output_type": "stream",
     "text": [
      "2023-01-27 14:30:50 Starting - Starting the training job...\n",
      "2023-01-27 14:31:14 Starting - Preparing the instances for trainingProfilerReport-1674829850: InProgress\n",
      "......\n",
      "2023-01-27 14:32:15 Downloading - Downloading input data...\n",
      "2023-01-27 14:32:40 Training - Training image download completed. Training in progress..\u001b[34mArguments: train\u001b[0m\n",
      "\u001b[34m[2023-01-27:14:32:53:INFO] Running standalone xgboost training.\u001b[0m\n",
      "\u001b[34m[2023-01-27:14:32:53:INFO] File size need to be processed in the node: 0.69mb. Available memory size in the node: 8282.27mb\u001b[0m\n",
      "\u001b[34m[2023-01-27:14:32:53:INFO] Determined delimiter of CSV input is ','\u001b[0m\n",
      "\u001b[34m[14:32:53] S3DistributionType set as FullyReplicated\u001b[0m\n",
      "\u001b[34m[14:32:53] 30000x7 matrix with 210000 entries loaded from /opt/ml/input/data/train?format=csv&label_column=0&delimiter=,\u001b[0m\n",
      "\u001b[34m[2023-01-27:14:32:53:INFO] Determined delimiter of CSV input is ','\u001b[0m\n",
      "\u001b[34m[14:32:53] S3DistributionType set as FullyReplicated\u001b[0m\n",
      "\u001b[34m[14:32:53] 6275x7 matrix with 43925 entries loaded from /opt/ml/input/data/validation?format=csv&label_column=0&delimiter=,\u001b[0m\n",
      "\u001b[34m[14:32:53] src/tree/updater_prune.cc:74: tree pruning end, 1 roots, 110 extra nodes, 0 pruned nodes, max_depth=6\u001b[0m\n",
      "\u001b[34m[0]#011train-rmse:1.06351#011validation-rmse:1.06061\u001b[0m\n",
      "\u001b[34m[14:32:53] src/tree/updater_prune.cc:74: tree pruning end, 1 roots, 108 extra nodes, 0 pruned nodes, max_depth=6\u001b[0m\n",
      "\u001b[34m[1]#011train-rmse:0.815069#011validation-rmse:0.813444\u001b[0m\n",
      "\u001b[34m[14:32:53] src/tree/updater_prune.cc:74: tree pruning end, 1 roots, 106 extra nodes, 0 pruned nodes, max_depth=6\u001b[0m\n",
      "\u001b[34m[2]#011train-rmse:0.658024#011validation-rmse:0.656905\u001b[0m\n",
      "\u001b[34m[14:32:53] src/tree/updater_prune.cc:74: tree pruning end, 1 roots, 110 extra nodes, 0 pruned nodes, max_depth=6\u001b[0m\n",
      "\u001b[34m[3]#011train-rmse:0.564273#011validation-rmse:0.563783\u001b[0m\n",
      "\u001b[34m[14:32:53] src/tree/updater_prune.cc:74: tree pruning end, 1 roots, 112 extra nodes, 0 pruned nodes, max_depth=6\u001b[0m\n",
      "\u001b[34m[4]#011train-rmse:0.510084#011validation-rmse:0.510941\u001b[0m\n",
      "\u001b[34m[14:32:53] src/tree/updater_prune.cc:74: tree pruning end, 1 roots, 124 extra nodes, 0 pruned nodes, max_depth=6\u001b[0m\n",
      "\u001b[34m[5]#011train-rmse:0.480796#011validation-rmse:0.483242\u001b[0m\n",
      "\u001b[34m[14:32:53] src/tree/updater_prune.cc:74: tree pruning end, 1 roots, 124 extra nodes, 0 pruned nodes, max_depth=6\u001b[0m\n",
      "\u001b[34m[6]#011train-rmse:0.464028#011validation-rmse:0.467131\u001b[0m\n",
      "\u001b[34m[14:32:53] src/tree/updater_prune.cc:74: tree pruning end, 1 roots, 126 extra nodes, 0 pruned nodes, max_depth=6\u001b[0m\n",
      "\u001b[34m[7]#011train-rmse:0.453666#011validation-rmse:0.457584\u001b[0m\n",
      "\u001b[34m[14:32:53] src/tree/updater_prune.cc:74: tree pruning end, 1 roots, 122 extra nodes, 0 pruned nodes, max_depth=6\u001b[0m\n",
      "\u001b[34m[8]#011train-rmse:0.448341#011validation-rmse:0.452914\u001b[0m\n",
      "\u001b[34m[14:32:53] src/tree/updater_prune.cc:74: tree pruning end, 1 roots, 120 extra nodes, 0 pruned nodes, max_depth=6\u001b[0m\n",
      "\u001b[34m[9]#011train-rmse:0.444992#011validation-rmse:0.450474\u001b[0m\n",
      "\u001b[34m[14:32:53] src/tree/updater_prune.cc:74: tree pruning end, 1 roots, 112 extra nodes, 0 pruned nodes, max_depth=6\u001b[0m\n",
      "\u001b[34m[10]#011train-rmse:0.442103#011validation-rmse:0.448143\u001b[0m\n",
      "\u001b[34m[14:32:53] src/tree/updater_prune.cc:74: tree pruning end, 1 roots, 126 extra nodes, 0 pruned nodes, max_depth=6\u001b[0m\n",
      "\u001b[34m[11]#011train-rmse:0.440512#011validation-rmse:0.447484\u001b[0m\n",
      "\u001b[34m[14:32:53] src/tree/updater_prune.cc:74: tree pruning end, 1 roots, 120 extra nodes, 0 pruned nodes, max_depth=6\u001b[0m\n",
      "\u001b[34m[12]#011train-rmse:0.438817#011validation-rmse:0.446606\u001b[0m\n",
      "\u001b[34m[14:32:53] src/tree/updater_prune.cc:74: tree pruning end, 1 roots, 126 extra nodes, 0 pruned nodes, max_depth=6\u001b[0m\n",
      "\u001b[34m[13]#011train-rmse:0.436171#011validation-rmse:0.444307\u001b[0m\n",
      "\u001b[34m[14:32:53] src/tree/updater_prune.cc:74: tree pruning end, 1 roots, 100 extra nodes, 0 pruned nodes, max_depth=6\u001b[0m\n",
      "\u001b[34m[14]#011train-rmse:0.435532#011validation-rmse:0.444133\u001b[0m\n",
      "\u001b[34m[14:32:53] src/tree/updater_prune.cc:74: tree pruning end, 1 roots, 122 extra nodes, 0 pruned nodes, max_depth=6\u001b[0m\n",
      "\u001b[34m[15]#011train-rmse:0.43426#011validation-rmse:0.442809\u001b[0m\n",
      "\u001b[34m[14:32:53] src/tree/updater_prune.cc:74: tree pruning end, 1 roots, 120 extra nodes, 0 pruned nodes, max_depth=6\u001b[0m\n",
      "\u001b[34m[16]#011train-rmse:0.432755#011validation-rmse:0.44165\u001b[0m\n",
      "\u001b[34m[14:32:53] src/tree/updater_prune.cc:74: tree pruning end, 1 roots, 118 extra nodes, 0 pruned nodes, max_depth=6\u001b[0m\n",
      "\u001b[34m[17]#011train-rmse:0.431796#011validation-rmse:0.441686\u001b[0m\n",
      "\u001b[34m[14:32:53] src/tree/updater_prune.cc:74: tree pruning end, 1 roots, 72 extra nodes, 0 pruned nodes, max_depth=6\u001b[0m\n",
      "\u001b[34m[18]#011train-rmse:0.431277#011validation-rmse:0.441704\u001b[0m\n",
      "\u001b[34m[14:32:53] src/tree/updater_prune.cc:74: tree pruning end, 1 roots, 120 extra nodes, 0 pruned nodes, max_depth=6\u001b[0m\n",
      "\u001b[34m[19]#011train-rmse:0.430661#011validation-rmse:0.441804\u001b[0m\n",
      "\u001b[34m[14:32:53] src/tree/updater_prune.cc:74: tree pruning end, 1 roots, 124 extra nodes, 0 pruned nodes, max_depth=6\u001b[0m\n",
      "\u001b[34m[20]#011train-rmse:0.42923#011validation-rmse:0.441106\u001b[0m\n",
      "\u001b[34m[14:32:53] src/tree/updater_prune.cc:74: tree pruning end, 1 roots, 88 extra nodes, 0 pruned nodes, max_depth=6\u001b[0m\n",
      "\u001b[34m[21]#011train-rmse:0.428509#011validation-rmse:0.440327\u001b[0m\n",
      "\u001b[34m[14:32:53] src/tree/updater_prune.cc:74: tree pruning end, 1 roots, 120 extra nodes, 0 pruned nodes, max_depth=6\u001b[0m\n",
      "\u001b[34m[22]#011train-rmse:0.427985#011validation-rmse:0.44001\u001b[0m\n",
      "\u001b[34m[14:32:54] src/tree/updater_prune.cc:74: tree pruning end, 1 roots, 60 extra nodes, 0 pruned nodes, max_depth=6\u001b[0m\n",
      "\u001b[34m[23]#011train-rmse:0.427603#011validation-rmse:0.439882\u001b[0m\n",
      "\u001b[34m[14:32:54] src/tree/updater_prune.cc:74: tree pruning end, 1 roots, 84 extra nodes, 0 pruned nodes, max_depth=6\u001b[0m\n",
      "\u001b[34m[24]#011train-rmse:0.427434#011validation-rmse:0.439928\u001b[0m\n",
      "\u001b[34m[14:32:54] src/tree/updater_prune.cc:74: tree pruning end, 1 roots, 44 extra nodes, 0 pruned nodes, max_depth=6\u001b[0m\n",
      "\u001b[34m[25]#011train-rmse:0.427356#011validation-rmse:0.439846\u001b[0m\n",
      "\u001b[34m[14:32:54] src/tree/updater_prune.cc:74: tree pruning end, 1 roots, 92 extra nodes, 0 pruned nodes, max_depth=6\u001b[0m\n",
      "\u001b[34m[26]#011train-rmse:0.426897#011validation-rmse:0.439779\u001b[0m\n",
      "\u001b[34m[14:32:54] src/tree/updater_prune.cc:74: tree pruning end, 1 roots, 126 extra nodes, 0 pruned nodes, max_depth=6\u001b[0m\n",
      "\u001b[34m[27]#011train-rmse:0.426161#011validation-rmse:0.439585\u001b[0m\n",
      "\u001b[34m[14:32:54] src/tree/updater_prune.cc:74: tree pruning end, 1 roots, 118 extra nodes, 0 pruned nodes, max_depth=6\u001b[0m\n",
      "\u001b[34m[28]#011train-rmse:0.425614#011validation-rmse:0.439128\u001b[0m\n",
      "\u001b[34m[14:32:54] src/tree/updater_prune.cc:74: tree pruning end, 1 roots, 126 extra nodes, 0 pruned nodes, max_depth=6\u001b[0m\n",
      "\u001b[34m[29]#011train-rmse:0.424765#011validation-rmse:0.438763\u001b[0m\n",
      "\u001b[34m[14:32:54] src/tree/updater_prune.cc:74: tree pruning end, 1 roots, 66 extra nodes, 0 pruned nodes, max_depth=6\u001b[0m\n",
      "\u001b[34m[30]#011train-rmse:0.424516#011validation-rmse:0.438775\u001b[0m\n",
      "\u001b[34m[14:32:54] src/tree/updater_prune.cc:74: tree pruning end, 1 roots, 96 extra nodes, 0 pruned nodes, max_depth=6\u001b[0m\n",
      "\u001b[34m[31]#011train-rmse:0.424111#011validation-rmse:0.438684\u001b[0m\n",
      "\u001b[34m[14:32:54] src/tree/updater_prune.cc:74: tree pruning end, 1 roots, 124 extra nodes, 0 pruned nodes, max_depth=6\u001b[0m\n",
      "\u001b[34m[32]#011train-rmse:0.423541#011validation-rmse:0.438593\u001b[0m\n",
      "\u001b[34m[14:32:54] src/tree/updater_prune.cc:74: tree pruning end, 1 roots, 126 extra nodes, 0 pruned nodes, max_depth=6\u001b[0m\n",
      "\u001b[34m[33]#011train-rmse:0.422972#011validation-rmse:0.438526\u001b[0m\n",
      "\u001b[34m[14:32:54] src/tree/updater_prune.cc:74: tree pruning end, 1 roots, 66 extra nodes, 0 pruned nodes, max_depth=6\u001b[0m\n",
      "\u001b[34m[34]#011train-rmse:0.422707#011validation-rmse:0.43843\u001b[0m\n",
      "\u001b[34m[14:32:54] src/tree/updater_prune.cc:74: tree pruning end, 1 roots, 126 extra nodes, 0 pruned nodes, max_depth=6\u001b[0m\n",
      "\u001b[34m[35]#011train-rmse:0.422231#011validation-rmse:0.438223\u001b[0m\n",
      "\u001b[34m[14:32:54] src/tree/updater_prune.cc:74: tree pruning end, 1 roots, 98 extra nodes, 0 pruned nodes, max_depth=6\u001b[0m\n",
      "\u001b[34m[36]#011train-rmse:0.42197#011validation-rmse:0.43839\u001b[0m\n",
      "\u001b[34m[14:32:54] src/tree/updater_prune.cc:74: tree pruning end, 1 roots, 64 extra nodes, 0 pruned nodes, max_depth=6\u001b[0m\n",
      "\u001b[34m[37]#011train-rmse:0.421735#011validation-rmse:0.438315\u001b[0m\n",
      "\u001b[34m[14:32:54] src/tree/updater_prune.cc:74: tree pruning end, 1 roots, 122 extra nodes, 0 pruned nodes, max_depth=6\u001b[0m\n",
      "\u001b[34m[38]#011train-rmse:0.421184#011validation-rmse:0.438067\u001b[0m\n",
      "\u001b[34m[14:32:54] src/tree/updater_prune.cc:74: tree pruning end, 1 roots, 66 extra nodes, 0 pruned nodes, max_depth=6\u001b[0m\n",
      "\u001b[34m[39]#011train-rmse:0.420982#011validation-rmse:0.438003\u001b[0m\n",
      "\u001b[34m[14:32:54] src/tree/updater_prune.cc:74: tree pruning end, 1 roots, 126 extra nodes, 0 pruned nodes, max_depth=6\u001b[0m\n",
      "\u001b[34m[40]#011train-rmse:0.420427#011validation-rmse:0.437608\u001b[0m\n",
      "\u001b[34m[14:32:54] src/tree/updater_prune.cc:74: tree pruning end, 1 roots, 126 extra nodes, 0 pruned nodes, max_depth=6\u001b[0m\n",
      "\u001b[34m[41]#011train-rmse:0.419703#011validation-rmse:0.437348\u001b[0m\n",
      "\u001b[34m[14:32:54] src/tree/updater_prune.cc:74: tree pruning end, 1 roots, 118 extra nodes, 0 pruned nodes, max_depth=6\u001b[0m\n",
      "\u001b[34m[42]#011train-rmse:0.419218#011validation-rmse:0.437039\u001b[0m\n",
      "\u001b[34m[14:32:54] src/tree/updater_prune.cc:74: tree pruning end, 1 roots, 114 extra nodes, 0 pruned nodes, max_depth=6\u001b[0m\n",
      "\u001b[34m[43]#011train-rmse:0.418832#011validation-rmse:0.436802\u001b[0m\n",
      "\u001b[34m[14:32:54] src/tree/updater_prune.cc:74: tree pruning end, 1 roots, 124 extra nodes, 0 pruned nodes, max_depth=6\u001b[0m\n",
      "\u001b[34m[44]#011train-rmse:0.418259#011validation-rmse:0.436654\u001b[0m\n",
      "\u001b[34m[14:32:54] src/tree/updater_prune.cc:74: tree pruning end, 1 roots, 124 extra nodes, 0 pruned nodes, max_depth=6\u001b[0m\n",
      "\u001b[34m[45]#011train-rmse:0.417747#011validation-rmse:0.436443\u001b[0m\n",
      "\u001b[34m[14:32:54] src/tree/updater_prune.cc:74: tree pruning end, 1 roots, 126 extra nodes, 0 pruned nodes, max_depth=6\u001b[0m\n",
      "\u001b[34m[46]#011train-rmse:0.417043#011validation-rmse:0.436262\u001b[0m\n",
      "\u001b[34m[14:32:54] src/tree/updater_prune.cc:74: tree pruning end, 1 roots, 98 extra nodes, 0 pruned nodes, max_depth=6\u001b[0m\n",
      "\u001b[34m[47]#011train-rmse:0.416456#011validation-rmse:0.43608\u001b[0m\n",
      "\u001b[34m[14:32:54] src/tree/updater_prune.cc:74: tree pruning end, 1 roots, 114 extra nodes, 0 pruned nodes, max_depth=6\u001b[0m\n",
      "\u001b[34m[48]#011train-rmse:0.416071#011validation-rmse:0.43586\u001b[0m\n",
      "\u001b[34m[14:32:54] src/tree/updater_prune.cc:74: tree pruning end, 1 roots, 64 extra nodes, 0 pruned nodes, max_depth=6\u001b[0m\n",
      "\u001b[34m[49]#011train-rmse:0.415948#011validation-rmse:0.435836\u001b[0m\n",
      "\u001b[34m[14:32:54] src/tree/updater_prune.cc:74: tree pruning end, 1 roots, 80 extra nodes, 0 pruned nodes, max_depth=6\u001b[0m\n",
      "\u001b[34m[50]#011train-rmse:0.415792#011validation-rmse:0.435804\u001b[0m\n",
      "\u001b[34m[14:32:54] src/tree/updater_prune.cc:74: tree pruning end, 1 roots, 120 extra nodes, 0 pruned nodes, max_depth=6\u001b[0m\n",
      "\u001b[34m[51]#011train-rmse:0.415433#011validation-rmse:0.435619\u001b[0m\n",
      "\u001b[34m[14:32:54] src/tree/updater_prune.cc:74: tree pruning end, 1 roots, 120 extra nodes, 0 pruned nodes, max_depth=6\u001b[0m\n",
      "\u001b[34m[52]#011train-rmse:0.415173#011validation-rmse:0.435693\u001b[0m\n",
      "\u001b[34m[14:32:54] src/tree/updater_prune.cc:74: tree pruning end, 1 roots, 126 extra nodes, 0 pruned nodes, max_depth=6\u001b[0m\n",
      "\u001b[34m[53]#011train-rmse:0.414696#011validation-rmse:0.435535\u001b[0m\n",
      "\u001b[34m[14:32:54] src/tree/updater_prune.cc:74: tree pruning end, 1 roots, 120 extra nodes, 0 pruned nodes, max_depth=6\u001b[0m\n",
      "\u001b[34m[54]#011train-rmse:0.414309#011validation-rmse:0.435449\u001b[0m\n",
      "\u001b[34m[14:32:54] src/tree/updater_prune.cc:74: tree pruning end, 1 roots, 82 extra nodes, 0 pruned nodes, max_depth=6\u001b[0m\n",
      "\u001b[34m[55]#011train-rmse:0.414147#011validation-rmse:0.435336\u001b[0m\n",
      "\u001b[34m[14:32:54] src/tree/updater_prune.cc:74: tree pruning end, 1 roots, 108 extra nodes, 0 pruned nodes, max_depth=6\u001b[0m\n",
      "\u001b[34m[56]#011train-rmse:0.413913#011validation-rmse:0.435429\u001b[0m\n",
      "\u001b[34m[14:32:54] src/tree/updater_prune.cc:74: tree pruning end, 1 roots, 102 extra nodes, 0 pruned nodes, max_depth=6\u001b[0m\n",
      "\u001b[34m[57]#011train-rmse:0.413643#011validation-rmse:0.43529\u001b[0m\n",
      "\u001b[34m[14:32:54] src/tree/updater_prune.cc:74: tree pruning end, 1 roots, 120 extra nodes, 0 pruned nodes, max_depth=6\u001b[0m\n",
      "\u001b[34m[58]#011train-rmse:0.413398#011validation-rmse:0.435355\u001b[0m\n",
      "\u001b[34m[14:32:54] src/tree/updater_prune.cc:74: tree pruning end, 1 roots, 108 extra nodes, 0 pruned nodes, max_depth=6\u001b[0m\n",
      "\u001b[34m[59]#011train-rmse:0.413229#011validation-rmse:0.435403\u001b[0m\n",
      "\u001b[34m[14:32:54] src/tree/updater_prune.cc:74: tree pruning end, 1 roots, 112 extra nodes, 0 pruned nodes, max_depth=6\u001b[0m\n",
      "\u001b[34m[60]#011train-rmse:0.41293#011validation-rmse:0.435237\u001b[0m\n",
      "\u001b[34m[14:32:54] src/tree/updater_prune.cc:74: tree pruning end, 1 roots, 118 extra nodes, 0 pruned nodes, max_depth=6\u001b[0m\n",
      "\u001b[34m[61]#011train-rmse:0.412753#011validation-rmse:0.435155\u001b[0m\n",
      "\u001b[34m[14:32:54] src/tree/updater_prune.cc:74: tree pruning end, 1 roots, 120 extra nodes, 0 pruned nodes, max_depth=6\u001b[0m\n",
      "\u001b[34m[62]#011train-rmse:0.412421#011validation-rmse:0.435142\u001b[0m\n",
      "\u001b[34m[14:32:54] src/tree/updater_prune.cc:74: tree pruning end, 1 roots, 118 extra nodes, 0 pruned nodes, max_depth=6\u001b[0m\n",
      "\u001b[34m[63]#011train-rmse:0.412247#011validation-rmse:0.435055\u001b[0m\n",
      "\u001b[34m[14:32:54] src/tree/updater_prune.cc:74: tree pruning end, 1 roots, 82 extra nodes, 0 pruned nodes, max_depth=6\u001b[0m\n",
      "\u001b[34m[64]#011train-rmse:0.412144#011validation-rmse:0.434984\u001b[0m\n",
      "\u001b[34m[14:32:54] src/tree/updater_prune.cc:74: tree pruning end, 1 roots, 104 extra nodes, 0 pruned nodes, max_depth=6\u001b[0m\n",
      "\u001b[34m[65]#011train-rmse:0.411887#011validation-rmse:0.434951\u001b[0m\n",
      "\u001b[34m[14:32:54] src/tree/updater_prune.cc:74: tree pruning end, 1 roots, 120 extra nodes, 0 pruned nodes, max_depth=6\u001b[0m\n",
      "\u001b[34m[66]#011train-rmse:0.411606#011validation-rmse:0.434998\u001b[0m\n",
      "\u001b[34m[14:32:54] src/tree/updater_prune.cc:74: tree pruning end, 1 roots, 116 extra nodes, 0 pruned nodes, max_depth=6\u001b[0m\n",
      "\u001b[34m[67]#011train-rmse:0.41134#011validation-rmse:0.434893\u001b[0m\n",
      "\u001b[34m[14:32:54] src/tree/updater_prune.cc:74: tree pruning end, 1 roots, 110 extra nodes, 0 pruned nodes, max_depth=6\u001b[0m\n",
      "\u001b[34m[68]#011train-rmse:0.411146#011validation-rmse:0.434835\u001b[0m\n",
      "\u001b[34m[14:32:54] src/tree/updater_prune.cc:74: tree pruning end, 1 roots, 122 extra nodes, 0 pruned nodes, max_depth=6\u001b[0m\n",
      "\u001b[34m[69]#011train-rmse:0.410878#011validation-rmse:0.434665\u001b[0m\n",
      "\u001b[34m[14:32:54] src/tree/updater_prune.cc:74: tree pruning end, 1 roots, 102 extra nodes, 0 pruned nodes, max_depth=6\u001b[0m\n",
      "\u001b[34m[70]#011train-rmse:0.410704#011validation-rmse:0.434609\u001b[0m\n",
      "\u001b[34m[14:32:54] src/tree/updater_prune.cc:74: tree pruning end, 1 roots, 80 extra nodes, 0 pruned nodes, max_depth=6\u001b[0m\n",
      "\u001b[34m[71]#011train-rmse:0.410597#011validation-rmse:0.434624\u001b[0m\n",
      "\u001b[34m[14:32:54] src/tree/updater_prune.cc:74: tree pruning end, 1 roots, 112 extra nodes, 0 pruned nodes, max_depth=6\u001b[0m\n",
      "\u001b[34m[72]#011train-rmse:0.410456#011validation-rmse:0.434501\u001b[0m\n",
      "\u001b[34m[14:32:54] src/tree/updater_prune.cc:74: tree pruning end, 1 roots, 126 extra nodes, 0 pruned nodes, max_depth=6\u001b[0m\n",
      "\u001b[34m[73]#011train-rmse:0.410142#011validation-rmse:0.43437\u001b[0m\n",
      "\u001b[34m[14:32:54] src/tree/updater_prune.cc:74: tree pruning end, 1 roots, 126 extra nodes, 0 pruned nodes, max_depth=6\u001b[0m\n",
      "\u001b[34m[74]#011train-rmse:0.409944#011validation-rmse:0.434296\u001b[0m\n",
      "\u001b[34m[14:32:54] src/tree/updater_prune.cc:74: tree pruning end, 1 roots, 112 extra nodes, 0 pruned nodes, max_depth=6\u001b[0m\n",
      "\u001b[34m[75]#011train-rmse:0.409723#011validation-rmse:0.434276\u001b[0m\n",
      "\u001b[34m[14:32:54] src/tree/updater_prune.cc:74: tree pruning end, 1 roots, 126 extra nodes, 0 pruned nodes, max_depth=6\u001b[0m\n",
      "\u001b[34m[76]#011train-rmse:0.409457#011validation-rmse:0.434163\u001b[0m\n",
      "\u001b[34m[14:32:54] src/tree/updater_prune.cc:74: tree pruning end, 1 roots, 120 extra nodes, 0 pruned nodes, max_depth=6\u001b[0m\n",
      "\u001b[34m[77]#011train-rmse:0.409254#011validation-rmse:0.434191\u001b[0m\n",
      "\u001b[34m[14:32:54] src/tree/updater_prune.cc:74: tree pruning end, 1 roots, 120 extra nodes, 0 pruned nodes, max_depth=6\u001b[0m\n",
      "\u001b[34m[78]#011train-rmse:0.408878#011validation-rmse:0.43421\u001b[0m\n",
      "\u001b[34m[14:32:54] src/tree/updater_prune.cc:74: tree pruning end, 1 roots, 114 extra nodes, 0 pruned nodes, max_depth=6\u001b[0m\n",
      "\u001b[34m[79]#011train-rmse:0.408777#011validation-rmse:0.43425\u001b[0m\n",
      "\u001b[34m[14:32:54] src/tree/updater_prune.cc:74: tree pruning end, 1 roots, 126 extra nodes, 0 pruned nodes, max_depth=6\u001b[0m\n",
      "\u001b[34m[80]#011train-rmse:0.408589#011validation-rmse:0.434074\u001b[0m\n",
      "\u001b[34m[14:32:54] src/tree/updater_prune.cc:74: tree pruning end, 1 roots, 108 extra nodes, 0 pruned nodes, max_depth=6\u001b[0m\n",
      "\u001b[34m[81]#011train-rmse:0.408389#011validation-rmse:0.433997\u001b[0m\n",
      "\u001b[34m[14:32:54] src/tree/updater_prune.cc:74: tree pruning end, 1 roots, 114 extra nodes, 0 pruned nodes, max_depth=6\u001b[0m\n",
      "\u001b[34m[82]#011train-rmse:0.408258#011validation-rmse:0.434012\u001b[0m\n",
      "\u001b[34m[14:32:54] src/tree/updater_prune.cc:74: tree pruning end, 1 roots, 96 extra nodes, 0 pruned nodes, max_depth=6\u001b[0m\n",
      "\u001b[34m[83]#011train-rmse:0.408136#011validation-rmse:0.433949\u001b[0m\n",
      "\u001b[34m[14:32:54] src/tree/updater_prune.cc:74: tree pruning end, 1 roots, 124 extra nodes, 0 pruned nodes, max_depth=6\u001b[0m\n",
      "\u001b[34m[84]#011train-rmse:0.407867#011validation-rmse:0.433878\u001b[0m\n",
      "\u001b[34m[14:32:54] src/tree/updater_prune.cc:74: tree pruning end, 1 roots, 122 extra nodes, 0 pruned nodes, max_depth=6\u001b[0m\n",
      "\u001b[34m[85]#011train-rmse:0.407641#011validation-rmse:0.434044\u001b[0m\n",
      "\u001b[34m[14:32:54] src/tree/updater_prune.cc:74: tree pruning end, 1 roots, 124 extra nodes, 0 pruned nodes, max_depth=6\u001b[0m\n",
      "\u001b[34m[86]#011train-rmse:0.407495#011validation-rmse:0.433946\u001b[0m\n",
      "\u001b[34m[14:32:54] src/tree/updater_prune.cc:74: tree pruning end, 1 roots, 120 extra nodes, 0 pruned nodes, max_depth=6\u001b[0m\n",
      "\u001b[34m[87]#011train-rmse:0.407339#011validation-rmse:0.433874\u001b[0m\n",
      "\u001b[34m[14:32:54] src/tree/updater_prune.cc:74: tree pruning end, 1 roots, 112 extra nodes, 0 pruned nodes, max_depth=6\u001b[0m\n",
      "\u001b[34m[88]#011train-rmse:0.407125#011validation-rmse:0.433947\u001b[0m\n",
      "\u001b[34m[14:32:54] src/tree/updater_prune.cc:74: tree pruning end, 1 roots, 120 extra nodes, 0 pruned nodes, max_depth=6\u001b[0m\n",
      "\u001b[34m[89]#011train-rmse:0.406731#011validation-rmse:0.433728\u001b[0m\n",
      "\u001b[34m[14:32:54] src/tree/updater_prune.cc:74: tree pruning end, 1 roots, 108 extra nodes, 0 pruned nodes, max_depth=6\u001b[0m\n",
      "\u001b[34m[90]#011train-rmse:0.406562#011validation-rmse:0.433698\u001b[0m\n",
      "\u001b[34m[14:32:54] src/tree/updater_prune.cc:74: tree pruning end, 1 roots, 126 extra nodes, 0 pruned nodes, max_depth=6\u001b[0m\n",
      "\u001b[34m[91]#011train-rmse:0.406383#011validation-rmse:0.433722\u001b[0m\n",
      "\u001b[34m[14:32:54] src/tree/updater_prune.cc:74: tree pruning end, 1 roots, 126 extra nodes, 0 pruned nodes, max_depth=6\u001b[0m\n",
      "\u001b[34m[92]#011train-rmse:0.40602#011validation-rmse:0.433528\u001b[0m\n",
      "\u001b[34m[14:32:54] src/tree/updater_prune.cc:74: tree pruning end, 1 roots, 124 extra nodes, 0 pruned nodes, max_depth=6\u001b[0m\n",
      "\u001b[34m[93]#011train-rmse:0.405855#011validation-rmse:0.433398\u001b[0m\n",
      "\u001b[34m[14:32:54] src/tree/updater_prune.cc:74: tree pruning end, 1 roots, 124 extra nodes, 0 pruned nodes, max_depth=6\u001b[0m\n",
      "\u001b[34m[94]#011train-rmse:0.405641#011validation-rmse:0.433514\u001b[0m\n",
      "\u001b[34m[14:32:54] src/tree/updater_prune.cc:74: tree pruning end, 1 roots, 122 extra nodes, 0 pruned nodes, max_depth=6\u001b[0m\n",
      "\u001b[34m[95]#011train-rmse:0.405446#011validation-rmse:0.433444\u001b[0m\n",
      "\u001b[34m[14:32:54] src/tree/updater_prune.cc:74: tree pruning end, 1 roots, 116 extra nodes, 0 pruned nodes, max_depth=6\u001b[0m\n",
      "\u001b[34m[96]#011train-rmse:0.40532#011validation-rmse:0.433423\u001b[0m\n",
      "\u001b[34m[14:32:54] src/tree/updater_prune.cc:74: tree pruning end, 1 roots, 124 extra nodes, 0 pruned nodes, max_depth=6\u001b[0m\n",
      "\u001b[34m[97]#011train-rmse:0.405017#011validation-rmse:0.433357\u001b[0m\n",
      "\u001b[34m[14:32:54] src/tree/updater_prune.cc:74: tree pruning end, 1 roots, 126 extra nodes, 0 pruned nodes, max_depth=6\u001b[0m\n",
      "\u001b[34m[98]#011train-rmse:0.40452#011validation-rmse:0.432914\u001b[0m\n",
      "\u001b[34m[14:32:54] src/tree/updater_prune.cc:74: tree pruning end, 1 roots, 120 extra nodes, 0 pruned nodes, max_depth=6\u001b[0m\n",
      "\u001b[34m[99]#011train-rmse:0.404297#011validation-rmse:0.432961\u001b[0m\n",
      "\n",
      "2023-01-27 14:33:15 Uploading - Uploading generated training model\n",
      "2023-01-27 14:33:15 Completed - Training job completed\n",
      "Training seconds: 77\n",
      "Billable seconds: 77\n"
     ]
    }
   ],
   "source": [
    "xgboost.fit(data_channels)"
   ]
  },
  {
   "cell_type": "code",
   "execution_count": null,
   "id": "cb4529f7-c77a-4651-a1b4-4484f751bd14",
   "metadata": {},
   "outputs": [],
   "source": []
  },
  {
   "cell_type": "code",
   "execution_count": null,
   "id": "24b18604",
   "metadata": {},
   "outputs": [
    {
     "name": "stdout",
     "output_type": "stream",
     "text": [
      "--------"
     ]
    }
   ],
   "source": [
    "xgboost_regressor = xgboost.deploy(initial_instance_count = 1, instance_type = 'ml.m4.xlarge')"
   ]
  },
  {
   "cell_type": "code",
   "execution_count": null,
   "id": "35b35095",
   "metadata": {},
   "outputs": [],
   "source": [
    "from sagemaker.serializers import CSVSerializer\n",
    "xgboost_regressor.serializer = CSVSerializer()"
   ]
  },
  {
   "cell_type": "code",
   "execution_count": null,
   "id": "36646fb1",
   "metadata": {
    "tags": []
   },
   "outputs": [],
   "source": [
    "previsoes = np.array(xgboost_regressor.predict(x_teste).decode('utf-8').split(',')).astype(np.float32)"
   ]
  },
  {
   "cell_type": "code",
   "execution_count": null,
   "id": "c96a9603-6dcd-4b68-b54e-f271f3423b52",
   "metadata": {
    "tags": []
   },
   "outputs": [],
   "source": [
    "previsoes[2], y_teste[2]"
   ]
  },
  {
   "cell_type": "code",
   "execution_count": null,
   "id": "5fb2115b-b1f6-4fc1-a904-dd85773d9ceb",
   "metadata": {
    "tags": []
   },
   "outputs": [],
   "source": [
    "from sklearn.metrics import mean_absolute_error, mean_squared_error\n",
    "import math\n",
    "mae = mean_absolute_error(y_teste, previsoes)\n",
    "mse = mean_squared_error(y_teste, previsoes)\n",
    "rmse = math.sqrt(mean_squared_error(y_teste, previsoes))\n",
    "print('MAE = ', mae, '\\nMSE = ', mse, '\\nRMSE = ', rmse)"
   ]
  },
  {
   "cell_type": "code",
   "execution_count": null,
   "id": "e7dc6832-9c84-4d8c-895d-7e79e5965ae8",
   "metadata": {},
   "outputs": [],
   "source": []
  }
 ],
 "metadata": {
  "instance_type": "ml.t3.medium",
  "kernelspec": {
   "display_name": "Python 3 (Data Science)",
   "language": "python",
   "name": "python3__SAGEMAKER_INTERNAL__arn:aws:sagemaker:us-east-1:081325390199:image/datascience-1.0"
  },
  "language_info": {
   "codemirror_mode": {
    "name": "ipython",
    "version": 3
   },
   "file_extension": ".py",
   "mimetype": "text/x-python",
   "name": "python",
   "nbconvert_exporter": "python",
   "pygments_lexer": "ipython3",
   "version": "3.7.10"
  }
 },
 "nbformat": 4,
 "nbformat_minor": 5
}
